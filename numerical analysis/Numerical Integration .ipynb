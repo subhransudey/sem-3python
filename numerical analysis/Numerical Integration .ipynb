{
 "cells": [
  {
   "cell_type": "markdown",
   "id": "82242cf4",
   "metadata": {},
   "source": [
    "# Trapezoidal Rule "
   ]
  },
  {
   "cell_type": "markdown",
   "id": "d66d0f70",
   "metadata": {},
   "source": [
    "Trapezoidal rule is one of the method of numerical integratiaon. As the name suggests, the area under the curve is evaluated by dividing it into small trapezoids instead of rectangle.\n",
    "So the range [a,b] is divided into equal intervals of gap $\\delta x =f \\frac{b-a}{n}.$ We have taken n divisions over here. \n",
    "![](img/traint1.jpeg)\n",
    "So we can write $x_i = x_0+i\\delta x.$ Then the integration is expressed as \n",
    "$$\\int_a^b f(x)dx \\sim  \\delta x\\left[\\frac{f(x_0)+f(x_1)}{2}+\\frac{f(x_1)+f(x_2)}{2}+\\frac{f(x_2)+f(x_3)}{2}+\\cdots + \\frac{f(x_{n-1})+f(n)}{2} \\right]$$\n",
    "$$= \\frac{\\delta x}{2} \\left[ f(x_0) + 2f(x_1) +2f(x_2) + \\cdots + 2f(x_{n-1}) + f(x_n) \\right]$$\n"
   ]
  },
  {
   "cell_type": "markdown",
   "id": "07ef08c2",
   "metadata": {},
   "source": [
    "## For Functions"
   ]
  },
  {
   "cell_type": "markdown",
   "id": "b3a60bfd",
   "metadata": {},
   "source": [
    "Example -1 \n",
    "\n",
    "Evaluate the integral using trapizoidal rule \n",
    "$$\\int_0^1 (x^2+1)dx$$"
   ]
  },
  {
   "cell_type": "code",
   "execution_count": 2,
   "id": "5e40d092",
   "metadata": {},
   "outputs": [],
   "source": [
    "import numpy as np \n",
    "from scipy.integrate import trapz\n",
    "from scipy.integrate import simps"
   ]
  },
  {
   "cell_type": "code",
   "execution_count": 3,
   "id": "1b7533fe",
   "metadata": {},
   "outputs": [
    {
     "name": "stdout",
     "output_type": "stream",
     "text": [
      "1.33335\n"
     ]
    }
   ],
   "source": [
    "# Method -1 \n",
    "def f(x):\n",
    "    return x**2+1\n",
    "a,b,n = 0,1,100\n",
    "h = (b-a)/n \n",
    "I = 0.5*h*(f(a)+f(b)+2*sum([f(a+i*h) for i in range(1,n)]))\n",
    "print(I)"
   ]
  },
  {
   "cell_type": "code",
   "execution_count": 5,
   "id": "ceffd055",
   "metadata": {},
   "outputs": [
    {
     "name": "stdout",
     "output_type": "stream",
     "text": [
      "1.33335\n"
     ]
    }
   ],
   "source": [
    "# Method -2\n",
    "x,h = np.linspace(0,1,101,retstep=True)\n",
    "y = x**2 + 1\n",
    "I = 0.5*h*(y[0]+y[-1]+2*sum(y[1:-1]))\n",
    "print(I)"
   ]
  },
  {
   "cell_type": "code",
   "execution_count": 6,
   "id": "99efead8",
   "metadata": {},
   "outputs": [
    {
     "name": "stdout",
     "output_type": "stream",
     "text": [
      "1.3333499999999998\n"
     ]
    }
   ],
   "source": [
    "# Method -3\n",
    "def f(x):\n",
    "    return x**2+1\n",
    "a,b,n = 0,1,100\n",
    "h = (b-a)/n\n",
    "I = 0\n",
    "for i in range(n+1):\n",
    "    if i ==0 or i == n :\n",
    "        I += 0.5*h*f(a+i*h)\n",
    "    else:\n",
    "        I += h*f(a+i*h)\n",
    "print(I)"
   ]
  },
  {
   "cell_type": "code",
   "execution_count": 12,
   "id": "63b69853",
   "metadata": {},
   "outputs": [
    {
     "name": "stdout",
     "output_type": "stream",
     "text": [
      "1.3333499999999998\n"
     ]
    }
   ],
   "source": [
    "def f(x):\n",
    "    return x**2+1\n",
    "a,b = 0,1\n",
    "x = np.linspace(0,1,101)\n",
    "I = trapz(f(x),x)\n",
    "print(I)"
   ]
  },
  {
   "cell_type": "markdown",
   "id": "b8c7df86",
   "metadata": {},
   "source": [
    "## For data points"
   ]
  },
  {
   "cell_type": "markdown",
   "id": "7dd672ab",
   "metadata": {},
   "source": [
    "Example \n",
    "\n",
    "Evaluate the integral $\\int_0^1 \\frac{dx}{1+x^2}$ upto 4 decimal places . Taking 6 equal subinterval of [0,1]"
   ]
  },
  {
   "cell_type": "markdown",
   "id": "659c2244",
   "metadata": {},
   "source": [
    "Here number of subinterval is 6 \n",
    "\n",
    "Length of each subinterval is h = $\\frac{1}{6}$. So the tabulated values of x and y as follows \n",
    "using trapezoidal rule \n",
    "\n",
    "\n",
    "| x | 0 | 0.1667 | 0.3334 | 0.5 | 0.6667 | 0.8334 | 1.0 |\n",
    "| --- | --- | --- | --- | --- | --- | --- | --- |\n",
    "| y | 1 | 0.97297 | 0.9 | 0.8 | 0.69231 | 0.59016 | 0.5 |\n",
    "\n"
   ]
  },
  {
   "cell_type": "code",
   "execution_count": 1,
   "id": "904740b9",
   "metadata": {},
   "outputs": [
    {
     "name": "stdout",
     "output_type": "stream",
     "text": [
      "0.784396848\n"
     ]
    }
   ],
   "source": [
    "# Method 1\n",
    "x = [0,0.1667,0.3334,0.5,0.6667,0.8334,1.0]\n",
    "y = [1,0.97297,0.9,0.8,0.69231,0.59016,0.5]\n",
    "a,b,h,n = x[0],x[-1],x[1]-x[0],len(x)\n",
    "I = 0.5*h*(y[0]+y[-1]+2*sum(y[1:-1]))\n",
    "print(I)"
   ]
  },
  {
   "cell_type": "code",
   "execution_count": 5,
   "id": "8d70adf6",
   "metadata": {},
   "outputs": [
    {
     "name": "stdout",
     "output_type": "stream",
     "text": [
      "0.784396848\n"
     ]
    }
   ],
   "source": [
    "# Method 2\n",
    "I = 0\n",
    "for i in range(n):\n",
    "    if  i ==0 or i == n-1 :\n",
    "        I += 0.5*h*y[i]\n",
    "    else:\n",
    "        I+= h*y[i]\n",
    "print(I)"
   ]
  },
  {
   "cell_type": "code",
   "execution_count": 7,
   "id": "ad6deed5",
   "metadata": {},
   "outputs": [
    {
     "name": "stdout",
     "output_type": "stream",
     "text": [
      "0.784396848\n"
     ]
    }
   ],
   "source": [
    "# Method 3 \n",
    "I = 0.5*h*(y[0]+y[-1]+2*sum(y[i] for i in range(1,n-1)))\n",
    "print(I)"
   ]
  },
  {
   "cell_type": "code",
   "execution_count": 8,
   "id": "6312241a",
   "metadata": {},
   "outputs": [
    {
     "name": "stdout",
     "output_type": "stream",
     "text": [
      "0.78425734\n"
     ]
    }
   ],
   "source": [
    "# Method 4\n",
    "print(trapz(y,x))"
   ]
  },
  {
   "cell_type": "markdown",
   "id": "54792c45",
   "metadata": {},
   "source": [
    "# Simpson's 1/3 rd Rule"
   ]
  },
  {
   "cell_type": "markdown",
   "id": "27d3d3d4",
   "metadata": {},
   "source": [
    "This is another method to approximate definite integrals. \n",
    "![](img/simint1.jpg)\n",
    "One form is : \n",
    "$$\\int_a^bf(x)dx \\sim \\frac{b-a}{6}\\left[ f(a) +4f\\left( \\frac{a+b}{2} \\right) + f(b) \\right]  $$\n",
    "extinding in n points  \n",
    "$$\\int_a^b f(x)dx \\sim \\frac{\\delta x}{3}[f(x_0)+ 4\\{f(x_1)+f(x_3)+f(x_5)+\\cdots + f(x_{n-1})  \\}+2\\{ f(x_2)+f(x_4)+f(x_6)+\\cdots + f(x_{n-2}) \\}+f(x_n)]$$"
   ]
  },
  {
   "cell_type": "markdown",
   "id": "2d898784",
   "metadata": {},
   "source": [
    "## For Functions"
   ]
  },
  {
   "cell_type": "markdown",
   "id": "9329c7a8",
   "metadata": {},
   "source": [
    "Example -2\n",
    "evaluate the integral \n",
    "$$\\int_0^1 (x^2+1)dx$$"
   ]
  },
  {
   "cell_type": "code",
   "execution_count": 1,
   "id": "f5bc6bb2",
   "metadata": {},
   "outputs": [
    {
     "name": "stdout",
     "output_type": "stream",
     "text": [
      "1.3333333333333335\n"
     ]
    }
   ],
   "source": [
    "# Method -1\n",
    "def f(x):\n",
    "    return x**2+1\n",
    "a,b,n = 0,1,100\n",
    "h = (b-a)/n\n",
    "odd_sum = 4*sum([f(a+i*h) for i in range(1,n,2)])\n",
    "even_sum = 2*sum([f(a+i*h) for i in range(2,n-1,2)])\n",
    "I = h/3*(f(a)+odd_sum+even_sum+f(b))\n",
    "print(I)"
   ]
  },
  {
   "cell_type": "code",
   "execution_count": 15,
   "id": "3d0c3848",
   "metadata": {},
   "outputs": [
    {
     "name": "stdout",
     "output_type": "stream",
     "text": [
      "1.3333333333333335\n"
     ]
    }
   ],
   "source": [
    "# Method -2\n",
    "x,h = np.linspace(0,1,101,retstep=True)\n",
    "y = x**2+1\n",
    "I = h/3*(y[0]+y[-1]+4*sum(y[1:-1:2])+2*sum(y[2:-2:2]))\n",
    "print(I)"
   ]
  },
  {
   "cell_type": "code",
   "execution_count": 3,
   "id": "d594ea11",
   "metadata": {},
   "outputs": [
    {
     "name": "stdout",
     "output_type": "stream",
     "text": [
      "1.333333333333333\n"
     ]
    }
   ],
   "source": [
    "# Method -3\n",
    "def f(x):\n",
    "    return x**2+1\n",
    "a,b,n = 0,1,100\n",
    "h = (b-a)/n\n",
    "I = 0\n",
    "for i in range(n+1):\n",
    "    if i == 0 or i == n: # first and last terms \n",
    "        I+= h/3*(f(a+i*h))\n",
    "    elif i%2==0:\n",
    "        I+= 2*h/3*(f(a+i*h))\n",
    "    else:\n",
    "        I+= 4*h/3*(f(a+i*h))\n",
    "print(I)"
   ]
  },
  {
   "cell_type": "code",
   "execution_count": 11,
   "id": "15766100",
   "metadata": {},
   "outputs": [
    {
     "name": "stdout",
     "output_type": "stream",
     "text": [
      "1.3333333333333335\n"
     ]
    }
   ],
   "source": [
    "# Method -4\n",
    "x,h = np.linspace(0,1,101,retstep=True)\n",
    "y = x**2+1\n",
    "print(simps(y,x))"
   ]
  },
  {
   "cell_type": "markdown",
   "id": "1608c03c",
   "metadata": {},
   "source": [
    "## For Data Points "
   ]
  },
  {
   "cell_type": "markdown",
   "id": "70a1798e",
   "metadata": {},
   "source": [
    "# Here number of subinterval is 6 \n",
    "\n",
    "Length of each subinterval is h = $\\frac{1}{6}$. So the tabulated values of x and y as follows \n",
    "using Simpson's 1/3 rd rule \n",
    "\n",
    "\n",
    "| x | 0 | 0.1667 | 0.3334 | 0.5 | 0.6667 | 0.8334 | 1.0 |\n",
    "| --- | --- | --- | --- | --- | --- | --- | --- |\n",
    "| y | 1 | 0.97297 | 0.9 | 0.8 | 0.69231 | 0.59016 | 0.5 |\n",
    "\n"
   ]
  },
  {
   "cell_type": "code",
   "execution_count": 3,
   "id": "cf79cc8b",
   "metadata": {},
   "outputs": [
    {
     "name": "stdout",
     "output_type": "stream",
     "text": [
      "0.7855537459999998\n"
     ]
    }
   ],
   "source": [
    "# Method 1\n",
    "x = [0,0.1667,0.3334,0.5,0.6667,0.8334,1.0]\n",
    "y = [1,0.97297,0.9,0.8,0.69231,0.59016,0.5]\n",
    "a,b,h,n = x[0],x[-1],x[1]-x[0],len(x)\n",
    "I = h/3*(y[0]+y[-1]+4*sum(y[1:-1:2])+2*sum(y[2:-1:2]))\n",
    "print(I)"
   ]
  },
  {
   "cell_type": "markdown",
   "id": "454503f7",
   "metadata": {},
   "source": [
    "# Gauss Quadrature Rule : "
   ]
  },
  {
   "cell_type": "markdown",
   "id": "fe16bdc4",
   "metadata": {},
   "source": [
    "The Gaussian Quadrature Method is an approximated mathod for finding definite integral of a function f(x) in the interval [-1,1]. The Gauss Quadrature expressed in the form :\n",
    "\n",
    "$\\int_{-1}^{1} f(x)dx = \\sum_{i=1}^n \\omega_if(x_i) = \\omega_1f(x_1)+ \\omega_2f(x_2)+ \\cdots + \\omega_nf(x_n)$\n",
    "\n",
    "where $\\omega_i$ are called weights of the formula and $x_i$ are called nodes . The function f(x) is evaluated at various points $x_1,x_2,\\cdots ,x_n$. "
   ]
  },
  {
   "cell_type": "markdown",
   "id": "0c900631",
   "metadata": {},
   "source": [
    "## 1 point gaussian quadrature "
   ]
  },
  {
   "cell_type": "markdown",
   "id": "df4a7b88",
   "metadata": {},
   "source": [
    "let us cosider $f(x) = Ax+b$\n",
    "\n",
    "applying gaussian quadrature  $\\int_{-1}^1 f(x)dx = \\omega_0f(x_0)$\n",
    "\n",
    "now substituting f(x) $\\int_{-1}^1 Ax+b = \\omega_0f(x_0)$\n",
    "$$\\implies \\left( \\frac{Ax^2}{2}+Bx \\right)_{-1}^1 = \\omega_0(Ax_0+b)$$\n",
    "$$\\implies A(0)+B(2) = A(\\omega_0x_0)+b(\\omega_0x_0)$$\n",
    "$$\\omega_0 = 2$$\n",
    "$$x_0 = 0$$"
   ]
  },
  {
   "cell_type": "markdown",
   "id": "f27e9f04",
   "metadata": {},
   "source": [
    "# 2 point gaussian quadrature "
   ]
  },
  {
   "cell_type": "markdown",
   "id": "8b132514",
   "metadata": {},
   "source": [
    "So now by analogy from previous problem we should see for two points we have four unknowns and we can fit it a three degree polynomial exactly $f(x) = Ax^3+ Bx^2+ Cx+D$\n",
    "\n",
    "Using Gauss Quadrature method \n",
    "$$\\int_{-1}^{1}Ax^3+Bx^2+Cx+D = \\omega_0(Ax_0^3+Bx_0^2+Cx_0+D)+\\omega_1(Ax_1^3+Bx_1^2+Cx_1+D)$$\n",
    "$$\\implies \\left( \\frac{Ax^4}{4}+\\frac{Bx^3}{3}+\\frac{Cx^2}{2}+Dx \\right) = \\omega_0(Ax_0^3+Bx_0^2+Cx_0+D)+\\omega_1(Ax_1^3+Bx_1^2+Cx_1+D) $$\n",
    "        $$A(\\omega_0x_0^3 +\\omega_1x_1^3)+B(\\omega_0x_0^2+\\omega_1x_1^2-\\frac{2}{3})+C(\\omega_0x_0+\\omega_1x_1)+D(\\omega_0+\\omega_1-2) = 0$$"
   ]
  },
  {
   "cell_type": "markdown",
   "id": "cb0d96d2",
   "metadata": {},
   "source": [
    "In order this to be true\n",
    "$$\\omega_0x_0^3+\\omega_1x_1^3 = 0$$\n",
    "$$\\omega_0x_0^2+\\omega_1x_1^2 \\frac{2}{3} = 0$$\n",
    "$$\\omega_0x_0+\\omega_1x_1 = 0 $$\n",
    "$$\\omega_0+\\omega_1-2 = 0$$"
   ]
  },
  {
   "cell_type": "markdown",
   "id": "53d5e396",
   "metadata": {},
   "source": [
    "On solving this \n",
    "$$\\omega_0 = 1, \\omega_1 = 1, x_0 = -\\sqrt{\\frac{1}{3}}, x_1 = \\sqrt{\\frac{1}{3}}$$\n",
    "\n",
    "All polynomials of degree less or equal to 3 can be integrated by 2 point quad method."
   ]
  },
  {
   "cell_type": "markdown",
   "id": "2ed3aab5",
   "metadata": {},
   "source": [
    "# N point gaussian quadrature "
   ]
  },
  {
   "cell_type": "markdown",
   "id": "5c0aea1e",
   "metadata": {},
   "source": [
    "So, now we under stand for every point there will be two unknowns (one node and one weight). So\n",
    "for N point we will have 2N unknown variables which can be fit to a polynomial of degree 2N − 1.\n",
    "$$\\int_{-1}^1f(x)dx = \\sum_{i=1}^n \\omega_if(x_i) + Error$$\n",
    "where error will be zero if f(x) is a polynomial function of degree 2N-1"
   ]
  },
  {
   "cell_type": "markdown",
   "id": "2e22e3f7",
   "metadata": {},
   "source": [
    "# Change of interval "
   ]
  },
  {
   "cell_type": "markdown",
   "id": "3f1e45f4",
   "metadata": {},
   "source": [
    "for the integral \n",
    "$$I = \\int_a^b f(x)dx$$\n",
    "\n",
    "taking $x = \\frac{b-a}{2}t+\\frac{b+a}{2} $ then \n",
    "$$\\int_a^b f(x)dx = \\frac{b-a}{2} \\int_{-1}^1 f\\left(\\frac{b-a}{2}t+\\frac{b+a}{2} \\right)dt$$\n",
    "Therefore gaussian quadrature becames \n",
    "$$\\int_a^b f(x)dx \\approx \\frac{b-a}{2} \\sum_{i=1}{n}\\omega_i f\\left(\\frac{b-a}{2}t_i+\\frac{b+a}{2} \\right)$$\n",
    "where $\\omega_i$ are the wieghts and $t_i$ are nodes"
   ]
  },
  {
   "cell_type": "markdown",
   "id": "a89851c7",
   "metadata": {},
   "source": [
    "# Some values of weights and nodes "
   ]
  },
  {
   "cell_type": "markdown",
   "id": "ea794f5e",
   "metadata": {},
   "source": [
    "\n",
    "| n |  $$x_i$$  | $$\\omega_i$$ |\n",
    "| --- |  ---  | --- |\n",
    "| 1 |  $$0$$  | $$2$$ |\n",
    "| 2 |  $$\\pm 0.5773503$$  | $$1$$ |\n",
    "| 3 |  $$0$$ $$\\pm 0.7745967$$   | $$0.8888889$$ $$0.5555556$$ |\n",
    "| 4 |  $$\\pm 0.3399810$$ $$\\pm 0.8611363$$  | $$0.6521452$$ $$0.3478548$$ |\n",
    "| 5 |  $$0$$ $$\\pm 0.5384693$$ $$\\pm 0.9061799$$   | $$0.5688889$$ $$0.4786287$$ $$0.2369269$$ |\n",
    "| 6 |  $$\\pm 0.2386192$$ $$\\pm 0.6612094$$ $$\\pm 09324695$$  | $$0.4679139$$ $$0.3607616$$ $$0.1713245$$ |\n",
    "\n",
    "\n",
    " "
   ]
  },
  {
   "cell_type": "markdown",
   "id": "bbf09a4c",
   "metadata": {},
   "source": [
    "# Example \n"
   ]
  },
  {
   "cell_type": "markdown",
   "id": "b8ab93a4",
   "metadata": {},
   "source": [
    "$$\\int_5^{10} x^2 dx$$"
   ]
  },
  {
   "cell_type": "code",
   "execution_count": 3,
   "id": "4050e5ff",
   "metadata": {},
   "outputs": [],
   "source": [
    "import numpy as np\n",
    "import math \n",
    "from scipy.integrate import quad "
   ]
  },
  {
   "cell_type": "code",
   "execution_count": 13,
   "id": "6a2f0bf6",
   "metadata": {},
   "outputs": [
    {
     "name": "stdout",
     "output_type": "stream",
     "text": [
      "[-0.93246951, -0.66120939, -0.23861919, 0.93246951, 0.66120939, 0.23861919]\n",
      "[0.17132449, 0.36076157, 0.46791393, 0.17132449, 0.36076157, 0.46791393]\n",
      "0.6666666617784163\n",
      "291.66666377778773\n",
      "(0.6666666666666666, 7.401486830834376e-15)\n",
      "(291.66666666666663, 3.2381504884900396e-12)\n"
     ]
    }
   ],
   "source": [
    "x = []\n",
    "w = []\n",
    "def f(x):\n",
    "    return x**2\n",
    "# file reading \n",
    "with open(\"weight_6point.txt\", \"r\") as data :\n",
    "    for line in data :\n",
    "        p = line.split()\n",
    "        x.append(float(p[0]))\n",
    "        w.append(float(p[1]))\n",
    "print(x)\n",
    "print(w)\n",
    "# gaussian quadrature \n",
    "I,I2,a,b = 0,0,5,10\n",
    "for i in range(len(x)):\n",
    "    I += w[i]*f(x[i])\n",
    "    I2 += (b-a)/2*w[i]*f((b-a)/2*x[i]+(a+b)/2) # chanig of interval \n",
    "print(I)\n",
    "print(I2)\n",
    "# pre built \n",
    "s = quad(f,-1,1)\n",
    "s2 = quad(f,5,10)\n",
    "print(s)\n",
    "print(s2)"
   ]
  },
  {
   "cell_type": "code",
   "execution_count": null,
   "id": "e80152f1",
   "metadata": {},
   "outputs": [],
   "source": []
  }
 ],
 "metadata": {
  "kernelspec": {
   "display_name": "Python 3",
   "language": "python",
   "name": "python3"
  },
  "language_info": {
   "codemirror_mode": {
    "name": "ipython",
    "version": 3
   },
   "file_extension": ".py",
   "mimetype": "text/x-python",
   "name": "python",
   "nbconvert_exporter": "python",
   "pygments_lexer": "ipython3",
   "version": "3.8.8"
  }
 },
 "nbformat": 4,
 "nbformat_minor": 5
}
