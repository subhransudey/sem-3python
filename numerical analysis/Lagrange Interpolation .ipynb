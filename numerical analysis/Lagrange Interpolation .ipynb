{
 "cells": [
  {
   "cell_type": "markdown",
   "id": "f2aa44ee",
   "metadata": {},
   "source": [
    "# Interpolation "
   ]
  },
  {
   "cell_type": "markdown",
   "id": "725a7aad",
   "metadata": {},
   "source": [
    "Interpolation is a method of fitting the data points to represent the value of a function. It has a various number of applications in engineering and science, that are used to construct new data points within the range of a discrete data set of known data points or can be used for determining a formula of the function that will pass from the given set of points (x,y). In this article, we are going to discuss the meaning of interpolation in Statistics, its formulas, and uses in detail."
   ]
  },
  {
   "cell_type": "markdown",
   "id": "f427840f",
   "metadata": {},
   "source": [
    "## Lagrange Interpolation "
   ]
  },
  {
   "cell_type": "markdown",
   "id": "f1ce0cbe",
   "metadata": {},
   "source": [
    "Given n distinct real values $x_1,x_2,x_3,,,,,x_n$ and n  real values $y_1,y_2,y_3,,,,y_n$ , there exist a unique polynomial $\\phi$ with real coefficients satisfying $\\phi(x_i)= y_i$ for $i \\in 1,2,3...n$ such that degree of $\\phi$ < n\n",
    "$$\\phi(x) = \\frac{(x-x_1)(x-x_2)(x-x_3)\\cdots (x-x_n)}{(x_0-x_1)(x_0-x_2)(x_0-x_3)\\cdots (x_0-x_n)}y_0 +\\frac{(x-x_0)(x-x_2)(x-x_3)\\cdots (x-x_n)}{(x_1-x_0)(x_1-x_2)(x_1-x_3)\\cdots (x_1-x_n)}y_1 + \\cdots + \\frac{(x-x_0)(x-x_1)(x-x_2)(x-x_3)\\cdots (x-x_{n-1})}{(x_n-x_0)(x_n-x_1)(x_n-x_2)(x_n-x_3)\\cdots (x_n-x_{n-1})}y_n $$\n",
    "\n",
    "$$\\phi(x) = \\sum_{i=0}^n P_i(x)y_i$$\n",
    "\n",
    "$$P_i(x) = \\prod_{j \\neq i}^n \\frac{x-x_j}{x_i-x_j}$$\n",
    "\n",
    "So we need n number of $P_i(x) $ to determine $\\phi(x)$"
   ]
  },
  {
   "cell_type": "markdown",
   "id": "091b31a5",
   "metadata": {},
   "source": [
    "<table style=\"width:20%\">\n",
    "<tr>\n",
    "<th><Name></th>\n",
    "<th><Address></th>\n",
    "<th><Salary></th>\n",
    "</tr>\n",
    "\n",
    "<tr>\n",
    "<td><Hanna></td>\n",
    "<td><Brisbane></td>\n",
    "<td><4000></td>\n",
    "</tr>\n",
    "\n",
    "<tr>\n",
    "<td><Adam></td>\n",
    "<td><Sydney></td>\n",
    "<td><5000></td>\n",
    "</tr>\n",
    "</table>"
   ]
  },
  {
   "cell_type": "markdown",
   "id": "3fcdf807",
   "metadata": {},
   "source": [
    "example 1 \n",
    "\n",
    "| x | 5 | 10 | 15 | 20 | 25 | 30 |\n",
    "| --- | --- | --- | --- | --- | --- | --- |\n",
    "| y | 45 | 105 | 174 | 259 | 364 | 496 |\n",
    "\n",
    " find the value of y at x = 18 "
   ]
  },
  {
   "cell_type": "code",
   "execution_count": 1,
   "id": "468be613",
   "metadata": {},
   "outputs": [],
   "source": [
    "import numpy as np \n",
    "import scipy as sc\n",
    "import matplotlib.pyplot as plt"
   ]
  },
  {
   "cell_type": "code",
   "execution_count": 3,
   "id": "c3916257",
   "metadata": {},
   "outputs": [
    {
     "name": "stdout",
     "output_type": "stream",
     "text": [
      "222.826688\n"
     ]
    }
   ],
   "source": [
    "#Lagrange interpoltion \n",
    "x_given = np.array([5,10,15,20,25,30],dtype = float)\n",
    "y_given = np.array([45,105,174,259,364,496],dtype = float)\n",
    "x = 18 \n",
    "s = 0.0\n",
    "for i in range(len(x_given)):\n",
    "    L = 1.0\n",
    "    for j in range(len(x_given)):\n",
    "        if i!=j:\n",
    "            L *= (x-x_given[j])/(x_given[i]-x_given[j])\n",
    "    s += L*y_given[i] \n",
    "print(s)"
   ]
  },
  {
   "cell_type": "code",
   "execution_count": 4,
   "id": "a2f40e84",
   "metadata": {},
   "outputs": [
    {
     "name": "stdout",
     "output_type": "stream",
     "text": [
      "[ 45.          48.01249515  51.01310116  54.0045083   56.98931315\n",
      "  59.97002063  62.94904594  65.92871657  68.9112742   71.89887675\n",
      "  74.89360031  77.89744111  80.9123175   83.94007194  86.98247294\n",
      "  90.04121704  93.1179308   96.21417275  99.33143538 102.4711471\n",
      " 105.6346742  108.82332284 112.03834104 115.2809206  118.55219911\n",
      " 121.85326191 125.18514407 128.54883236 131.94526719 135.37534464\n",
      " 138.83991838 142.33980167 145.87576932 149.44855967 153.05887655\n",
      " 156.70739125 160.39474452 164.12154851 167.88838876 171.69582615\n",
      " 175.54439891 179.43462453 183.36700181 187.34201277 191.36012464\n",
      " 195.42179185 199.52745798 203.67755773 207.8725189  212.11276437\n",
      " 216.39871405 220.73078689 225.10940279 229.53498463 234.00796021\n",
      " 238.52876425 243.09784031 247.71564282 252.38263902 257.09931092\n",
      " 261.86615732 266.68369572 271.55246434 276.47302407 281.44596045\n",
      " 286.47188562 291.55144033 296.68529587 301.87415609 307.1187593\n",
      " 312.41988034 317.77833244 323.1949693  328.67068697 334.20642588\n",
      " 339.8031728  345.46196278 351.18388118 356.97006559 362.82170781\n",
      " 368.74005584 374.72641586 380.78215415 386.90869914 393.10754329\n",
      " 399.38024515 405.72843127 412.1537982  418.65811445 425.24322246\n",
      " 431.9110406  438.6635651  445.50287205 452.43111935 459.4505487\n",
      " 466.56348759 473.77235121 481.07964448 488.48796399 496.        ]\n"
     ]
    }
   ],
   "source": [
    "x = np.linspace(5,30,100)\n",
    "x_given = np.array([5,10,15,20,25,30],dtype = float)\n",
    "y_given = np.array([45,105,174,259,364,496],dtype = float)\n",
    "n = len(x_given)\n",
    "L = np.zeros((n,len(x)))\n",
    "P = np.zeros(len(x))\n",
    "for i in range(n):\n",
    "    den = 1\n",
    "    for j in range(n):\n",
    "        if i!=j:\n",
    "            den = den*(x_given[i]-x_given[j])\n",
    "    for l in range(len(x)):\n",
    "        num = 1\n",
    "        for k in range(n):\n",
    "            if i!=k:\n",
    "                num = num*(x[l]-x_given[k])\n",
    "        L[i][l] = num/den\n",
    "for i in range(n):\n",
    "    for j in range(len(x)):\n",
    "        P[j] = P[j] + L[i][j]*y_given[i]\n",
    "print(P)\n"
   ]
  },
  {
   "cell_type": "code",
   "execution_count": 5,
   "id": "9082da22",
   "metadata": {},
   "outputs": [
    {
     "name": "stdout",
     "output_type": "stream",
     "text": [
      "Text(0.5, 1.0, 'Lagrange Interpolation')\n",
      "[<matplotlib.lines.Line2D object at 0x000001BF37B94F70>]\n",
      "Text(0.5, 0, 'x')\n",
      "Text(0, 0.5, 'y')\n"
     ]
    },
    {
     "data": {
      "image/png": "[encoded data removed]",
      "text/plain": [
       "<Figure size 432x288 with 1 Axes>"
      ]
     },
     "metadata": {
      "needs_background": "light"
     },
     "output_type": "display_data"
    },
    {
     "name": "stdout",
     "output_type": "stream",
     "text": [
      "None\n"
     ]
    }
   ],
   "source": [
    "#plotting\n",
    "print(plt.title(\"Lagrange Interpolation\"))\n",
    "print(plt.plot(x,P))\n",
    "print(plt.xlabel(\"x\"))\n",
    "print(plt.ylabel(\"y\"))\n",
    "print(plt.show())"
   ]
  },
  {
   "cell_type": "markdown",
   "id": "a828a5d3",
   "metadata": {},
   "source": [
    "## User defined "
   ]
  },
  {
   "cell_type": "code",
   "execution_count": 15,
   "id": "7d4775ae",
   "metadata": {},
   "outputs": [
    {
     "name": "stdout",
     "output_type": "stream",
     "text": [
      "enter nuber of x or y values : 6\n",
      "enter x value : 5\n",
      "enter x value : 10\n",
      "enter x value : 15\n",
      "enter x value : 20\n",
      "enter x value : 25\n",
      "enter x value : 30\n",
      "enter y value : 45\n",
      "enter y value : 105\n",
      "enter y value : 174\n",
      "enter y value : 259\n",
      "enter y value : 364\n",
      "enter y value : 496\n",
      "enter the value of x at which you want to interpolate :18\n",
      "x\t y\n",
      "5.0\t 45.0\n",
      "\n",
      "10.0\t 105.0\n",
      "\n",
      "15.0\t 174.0\n",
      "\n",
      "20.0\t 259.0\n",
      "\n",
      "25.0\t 364.0\n",
      "\n",
      "30.0\t 496.0\n",
      "\n",
      "interpolated value at 18.0 is 222.826688\n"
     ]
    }
   ],
   "source": [
    "# taking input from user\n",
    "n = int(input(\"enter nuber of x or y values : \"))\n",
    "x_given = np.array([float(input(\"enter x value : \")) for i in range(n)], dtype=float)\n",
    "y_given = np.array([float(input(\"enter y value : \")) for i in range(n)], dtype=float)\n",
    "x = float(input(\"enter the value of x at which you want to interpolate :\")) # x axis\n",
    "# main interpolation function using def\n",
    "def lagrange_interpolate(x_given, y_given):\n",
    "    interpolated_value = 0\n",
    "    for i in range(n):\n",
    "        L = 1.0\n",
    "        for j in range(n):\n",
    "            if i!=j:\n",
    "                L *= (x - x_given[j]) / (x_given[i] - x_given[j])\n",
    "        interpolated_value += L * y_given[i]\n",
    "    return interpolated_value\n",
    "\n",
    "# printing the given inputs and compute the interpolation \n",
    "if x < np.max(x_given) and x > np.min(x_given):\n",
    "    print(f\"x\\t y\")\n",
    "    for i in range(n):\n",
    "        print(f\"{x_given[i]}\\t {y_given[i]}\\n\")\n",
    "    print(f\"interpolated value at {x} is {lagrange_interpolate(x_given, y_given)}\")\n",
    "else:\n",
    "    print(f\"{x} is not lies between {np.min(x_given)} to {np.max(x_given)}\")\n"
   ]
  },
  {
   "cell_type": "code",
   "execution_count": 6,
   "id": "e419b350",
   "metadata": {},
   "outputs": [
    {
     "name": "stdout",
     "output_type": "stream",
     "text": [
      "enter number of x or y terms :6\n",
      "enter x value :5\n",
      "enter x value :10\n",
      "enter x value :15\n",
      "enter x value :20\n",
      "enter x value :25\n",
      "enter x value :30\n",
      "enter y value :45\n",
      "enter y value :105\n",
      "enter y value :174\n",
      "enter y value :259\n",
      "enter y value :364\n",
      "enter y value :496\n",
      "[[ 1.00000000e+00  8.89372369e-01  7.87773880e-01  6.94685890e-01\n",
      "   6.09608618e-01  5.32060815e-01  4.61579437e-01  3.97719316e-01\n",
      "   3.40052833e-01  2.88169586e-01  2.41676064e-01  2.00195318e-01\n",
      "   1.63366632e-01  1.30845193e-01  1.02301767e-01  7.74223646e-02\n",
      "   5.59079158e-02  3.74739408e-02  2.18502214e-02  8.78047182e-03\n",
      "  -1.97798908e-03 -1.06545670e-02 -1.74657206e-02 -2.26152900e-02\n",
      "  -2.62948256e-02 -2.86839166e-02 -2.99505195e-02 -3.02512869e-02\n",
      "  -2.97318958e-02 -2.85273766e-02 -2.67624415e-02 -2.45518130e-02\n",
      "  -2.20005526e-02 -1.92043896e-02 -1.62500493e-02 -1.32155819e-02\n",
      "  -1.01706913e-02 -7.17706296e-03 -4.28869338e-03 -1.55221813e-03\n",
      "   9.92759318e-04  3.31333905e-03  5.38299607e-03  7.18125172e-03\n",
      "   8.69334507e-03  9.90990432e-03  1.08266181e-02  1.14439072e-02\n",
      "   1.17665954e-02  1.18035813e-02  1.15675096e-02  1.10744427e-02\n",
      "   1.03435315e-02  9.39668745e-03  8.25825360e-03  6.95467606e-03\n",
      "   5.51417543e-03  3.96641816e-03  2.34218795e-03  6.73057165e-04\n",
      "  -1.00894179e-03 -2.67164506e-03 -4.28308596e-03 -5.81182358e-03\n",
      "  -7.22727138e-03 -8.50002577e-03 -9.60219479e-03 -1.05077266e-02\n",
      "  -1.11927383e-02 -1.16358441e-02 -1.18184846e-02 -1.17252547e-02\n",
      "  -1.13442326e-02 -1.06673083e-02 -9.69051236e-03 -8.41434419e-03\n",
      "  -6.84410091e-03 -4.99020587e-03 -2.86853727e-03 -5.00756729e-04\n",
      "   2.08536206e-03  4.85560475e-03  7.76898773e-03  1.07774296e-02\n",
      "   1.38254223e-02  1.68497028e-02  1.97789246e-02  2.25333285e-02\n",
      "   2.50244148e-02  2.71546139e-02  2.88169586e-02  2.98947546e-02\n",
      "   3.02612523e-02  2.97793185e-02  2.83011072e-02  2.56677313e-02\n",
      "   2.17089341e-02  1.62427604e-02  9.07522825e-03 -0.00000000e+00]\n",
      " [ 0.00000000e+00  2.36535204e-01  4.42569595e-01  6.20255259e-01\n",
      "   7.71656479e-01  8.98751377e-01  1.00343356e+00  1.08751376e+00\n",
      "   1.15272147e+00  1.20070661e+00  1.23304114e+00  1.25122074e+00\n",
      "   1.25666640e+00  1.25072611e+00  1.23467650e+00  1.20972445e+00\n",
      "   1.17700875e+00  1.13760178e+00  1.09251107e+00  1.04268103e+00\n",
      "   9.88994540e-01  9.32274612e-01  8.73286028e-01  8.12736983e-01\n",
      "   7.51280731e-01  6.89517226e-01  6.27994764e-01  5.67211629e-01\n",
      "   5.07617733e-01  4.49616262e-01  3.93565317e-01  3.39779555e-01\n",
      "   2.88531838e-01  2.40054870e-01  1.94542843e-01  1.52153082e-01\n",
      "   1.13007681e-01  7.71951540e-02  4.47720738e-02  1.57647154e-02\n",
      "  -9.82930018e-03 -3.20393634e-02 -5.09202331e-02 -6.65503931e-02\n",
      "  -7.90304098e-02 -8.84812885e-02 -9.50428311e-02 -9.88719922e-02\n",
      "  -1.00141237e-01 -9.90368976e-02 -9.57575301e-02 -9.05122719e-02\n",
      "  -8.35191984e-02 -7.50036799e-02 -6.51967389e-02 -5.43334067e-02\n",
      "  -4.26510807e-02 -3.03878810e-02 -1.77810080e-02 -5.06509856e-03\n",
      "   7.52941632e-03  1.97779549e-02  3.14634277e-02  4.23778803e-02\n",
      "   5.23241367e-02  6.11174419e-02  6.85871056e-02  7.45781445e-02\n",
      "   7.89529256e-02  8.15928095e-02  8.23997931e-02  8.12981526e-02\n",
      "   7.82360867e-02  7.31873597e-02  6.61529442e-02  5.71626643e-02\n",
      "   4.62768389e-02  3.35879242e-02  1.92221570e-02  3.34119777e-03\n",
      "  -1.38562263e-02 -3.21326785e-02 -5.12103693e-02 -7.07695137e-02\n",
      "  -9.04466876e-02 -1.09833186e-01 -1.28473377e-01 -1.45863064e-01\n",
      "  -1.61447837e-01 -1.74621434e-01 -1.84724094e-01 -1.91040918e-01\n",
      "  -1.92800223e-01 -1.89171900e-01 -1.79265773e-01 -1.62129952e-01\n",
      "  -1.36749191e-01 -1.02043249e-01 -5.68652410e-02  0.00000000e+00]\n",
      " [-0.00000000e+00 -2.30407349e-01 -4.19028660e-01 -5.69414664e-01\n",
      "  -6.84953504e-01 -7.68874010e-01 -8.24248995e-01 -8.53998532e-01\n",
      "  -8.60893248e-01 -8.47557606e-01 -8.16473189e-01 -7.69981992e-01\n",
      "  -7.10289703e-01 -6.39468990e-01 -5.59462789e-01 -4.72087589e-01\n",
      "  -3.79036717e-01 -2.81883626e-01 -1.82085178e-01 -8.09849343e-02\n",
      "   2.01835620e-02  1.20293498e-01  2.18321507e-01  3.13344379e-01\n",
      "   4.04535778e-01  4.91162955e-01  5.72583461e-01  6.48241861e-01\n",
      "   7.17666450e-01  7.80465965e-01  8.36326298e-01  8.85007213e-01\n",
      "   9.26339058e-01  9.60219479e-01  9.86610134e-01  1.00553341e+00\n",
      "   1.01706913e+00  1.02135127e+00  1.01856468e+00  1.00894179e+00\n",
      "   9.92759318e-01  9.70335007e-01  9.42024312e-01  9.08217130e-01\n",
      "   8.69334507e-01  8.25825360e-01  7.78163179e-01  7.26842754e-01\n",
      "   6.72376877e-01  6.15293066e-01  5.56130271e-01  4.95435594e-01\n",
      "   4.33760998e-01  3.71660026e-01  3.09684510e-01  2.48381288e-01\n",
      "   1.88288917e-01  1.29934388e-01  7.38298375e-02  2.04692643e-02\n",
      "  -2.96747584e-02 -7.61543685e-02 -1.18549701e-01 -1.56472173e-01\n",
      "  -1.89567774e-01 -2.17520345e-01 -2.40054870e-01 -2.56940761e-01\n",
      "  -2.67995142e-01 -2.73086138e-01 -2.72136159e-01 -2.65125185e-01\n",
      "  -2.52094057e-01 -2.33147757e-01 -2.08458696e-01 -1.78270004e-01\n",
      "  -1.42898810e-01 -1.02739533e-01 -5.82671633e-02 -1.00405537e-02\n",
      "   4.12942982e-02  9.50009624e-02  1.50249291e-01  2.06112132e-01\n",
      "   2.61562043e-01  3.15468004e-01  3.66592136e-01  4.13586409e-01\n",
      "   4.54989359e-01  4.89222802e-01  5.14588546e-01  5.29265110e-01\n",
      "   5.31304430e-01  5.18628581e-01  4.89026484e-01  4.40150627e-01\n",
      "   3.69513772e-01  2.74485672e-01  1.52289789e-01 -0.00000000e+00]\n",
      " [ 0.00000000e+00  1.52289789e-01  2.74485672e-01  3.69513772e-01\n",
      "   4.40150627e-01  4.89026484e-01  5.18628581e-01  5.31304430e-01\n",
      "   5.29265110e-01  5.14588546e-01  4.89222802e-01  4.54989359e-01\n",
      "   4.13586409e-01  3.66592136e-01  3.15468004e-01  2.61562043e-01\n",
      "   2.06112132e-01  1.50249291e-01  9.50009624e-02  4.12942982e-02\n",
      "  -1.00405537e-02 -5.82671633e-02 -1.02739533e-01 -1.42898810e-01\n",
      "  -1.78270004e-01 -2.08458696e-01 -2.33147757e-01 -2.52094057e-01\n",
      "  -2.65125185e-01 -2.72136159e-01 -2.73086138e-01 -2.67995142e-01\n",
      "  -2.56940761e-01 -2.40054870e-01 -2.17520345e-01 -1.89567774e-01\n",
      "  -1.56472173e-01 -1.18549701e-01 -7.61543685e-02 -2.96747584e-02\n",
      "   2.04692643e-02  7.38298375e-02  1.29934388e-01  1.88288917e-01\n",
      "   2.48381288e-01  3.09684510e-01  3.71660026e-01  4.33760998e-01\n",
      "   4.95435594e-01  5.56130271e-01  6.15293066e-01  6.72376877e-01\n",
      "   7.26842754e-01  7.78163179e-01  8.25825360e-01  8.69334507e-01\n",
      "   9.08217130e-01  9.42024312e-01  9.70335007e-01  9.92759318e-01\n",
      "   1.00894179e+00  1.01856468e+00  1.02135127e+00  1.01706913e+00\n",
      "   1.00553341e+00  9.86610134e-01  9.60219479e-01  9.26339058e-01\n",
      "   8.85007213e-01  8.36326298e-01  7.80465965e-01  7.17666450e-01\n",
      "   6.48241861e-01  5.72583461e-01  4.91162955e-01  4.04535778e-01\n",
      "   3.13344379e-01  2.18321507e-01  1.20293498e-01  2.01835620e-02\n",
      "  -8.09849343e-02 -1.82085178e-01 -2.81883626e-01 -3.79036717e-01\n",
      "  -4.72087589e-01 -5.59462789e-01 -6.39468990e-01 -7.10289703e-01\n",
      "  -7.69981992e-01 -8.16473189e-01 -8.47557606e-01 -8.60893248e-01\n",
      "  -8.53998532e-01 -8.24248995e-01 -7.68874010e-01 -6.84953504e-01\n",
      "  -5.69414664e-01 -4.19028660e-01 -2.30407349e-01  0.00000000e+00]\n",
      " [-0.00000000e+00 -5.68652410e-02 -1.02043249e-01 -1.36749191e-01\n",
      "  -1.62129952e-01 -1.79265773e-01 -1.89171900e-01 -1.92800223e-01\n",
      "  -1.91040918e-01 -1.84724094e-01 -1.74621434e-01 -1.61447837e-01\n",
      "  -1.45863064e-01 -1.28473377e-01 -1.09833186e-01 -9.04466876e-02\n",
      "  -7.07695137e-02 -5.12103693e-02 -3.21326785e-02 -1.38562263e-02\n",
      "   3.34119777e-03  1.92221570e-02  3.35879242e-02  4.62768389e-02\n",
      "   5.71626643e-02  6.61529442e-02  7.31873597e-02  7.82360867e-02\n",
      "   8.12981526e-02  8.23997931e-02  8.15928095e-02  7.89529256e-02\n",
      "   7.45781445e-02  6.85871056e-02  6.11174419e-02  5.23241367e-02\n",
      "   4.23778803e-02  3.14634277e-02  1.97779549e-02  7.52941632e-03\n",
      "  -5.06509856e-03 -1.77810080e-02 -3.03878810e-02 -4.26510807e-02\n",
      "  -5.43334067e-02 -6.51967389e-02 -7.50036799e-02 -8.35191984e-02\n",
      "  -9.05122719e-02 -9.57575301e-02 -9.90368976e-02 -1.00141237e-01\n",
      "  -9.88719922e-02 -9.50428311e-02 -8.84812885e-02 -7.90304098e-02\n",
      "  -6.65503931e-02 -5.09202331e-02 -3.20393634e-02 -9.82930018e-03\n",
      "   1.57647154e-02  4.47720738e-02  7.71951540e-02  1.13007681e-01\n",
      "   1.52153082e-01  1.94542843e-01  2.40054870e-01  2.88531838e-01\n",
      "   3.39779555e-01  3.93565317e-01  4.49616262e-01  5.07617733e-01\n",
      "   5.67211629e-01  6.27994764e-01  6.89517226e-01  7.51280731e-01\n",
      "   8.12736983e-01  8.73286028e-01  9.32274612e-01  9.88994540e-01\n",
      "   1.04268103e+00  1.09251107e+00  1.13760178e+00  1.17700875e+00\n",
      "   1.20972445e+00  1.23467650e+00  1.25072611e+00  1.25666640e+00\n",
      "   1.25122074e+00  1.23304114e+00  1.20070661e+00  1.15272147e+00\n",
      "   1.08751376e+00  1.00343356e+00  8.98751377e-01  7.71656479e-01\n",
      "   6.20255259e-01  4.42569595e-01  2.36535204e-01 -0.00000000e+00]\n",
      " [ 0.00000000e+00  9.07522825e-03  1.62427604e-02  2.17089341e-02\n",
      "   2.56677313e-02  2.83011072e-02  2.97793185e-02  3.02612523e-02\n",
      "   2.98947546e-02  2.88169586e-02  2.71546139e-02  2.50244148e-02\n",
      "   2.25333285e-02  1.97789246e-02  1.68497028e-02  1.38254223e-02\n",
      "   1.07774296e-02  7.76898773e-03  4.85560475e-03  2.08536206e-03\n",
      "  -5.00756729e-04 -2.86853727e-03 -4.99020587e-03 -6.84410091e-03\n",
      "  -8.41434419e-03 -9.69051236e-03 -1.06673083e-02 -1.13442326e-02\n",
      "  -1.17252547e-02 -1.18184846e-02 -1.16358441e-02 -1.11927383e-02\n",
      "  -1.05077266e-02 -9.60219479e-03 -8.50002577e-03 -7.22727138e-03\n",
      "  -5.81182358e-03 -4.28308596e-03 -2.67164506e-03 -1.00894179e-03\n",
      "   6.73057165e-04  2.34218795e-03  3.96641816e-03  5.51417543e-03\n",
      "   6.95467606e-03  8.25825360e-03  9.39668745e-03  1.03435315e-02\n",
      "   1.10744427e-02  1.15675096e-02  1.18035813e-02  1.17665954e-02\n",
      "   1.14439072e-02  1.08266181e-02  9.90990432e-03  8.69334507e-03\n",
      "   7.18125172e-03  5.38299607e-03  3.31333905e-03  9.92759318e-04\n",
      "  -1.55221813e-03 -4.28869338e-03 -7.17706296e-03 -1.01706913e-02\n",
      "  -1.32155819e-02 -1.62500493e-02 -1.92043896e-02 -2.20005526e-02\n",
      "  -2.45518130e-02 -2.67624415e-02 -2.85273766e-02 -2.97318958e-02\n",
      "  -3.02512869e-02 -2.99505195e-02 -2.86839166e-02 -2.62948256e-02\n",
      "  -2.26152900e-02 -1.74657206e-02 -1.06545670e-02 -1.97798908e-03\n",
      "   8.78047182e-03  2.18502214e-02  3.74739408e-02  5.59079158e-02\n",
      "   7.74223646e-02  1.02301767e-01  1.30845193e-01  1.63366632e-01\n",
      "   2.00195318e-01  2.41676064e-01  2.88169586e-01  3.40052833e-01\n",
      "   3.97719316e-01  4.61579437e-01  5.32060815e-01  6.09608618e-01\n",
      "   6.94685890e-01  7.87773880e-01  8.89372369e-01  1.00000000e+00]]\n",
      "[ 45.          48.01249515  51.01310116  54.0045083   56.98931315\n",
      "  59.97002063  62.94904594  65.92871657  68.9112742   71.89887675\n",
      "  74.89360031  77.89744111  80.9123175   83.94007194  86.98247294\n",
      "  90.04121704  93.1179308   96.21417275  99.33143538 102.4711471\n",
      " 105.6346742  108.82332284 112.03834104 115.2809206  118.55219911\n",
      " 121.85326191 125.18514407 128.54883236 131.94526719 135.37534464\n",
      " 138.83991838 142.33980167 145.87576932 149.44855967 153.05887655\n",
      " 156.70739125 160.39474452 164.12154851 167.88838876 171.69582615\n",
      " 175.54439891 179.43462453 183.36700181 187.34201277 191.36012464\n",
      " 195.42179185 199.52745798 203.67755773 207.8725189  212.11276437\n",
      " 216.39871405 220.73078689 225.10940279 229.53498463 234.00796021\n",
      " 238.52876425 243.09784031 247.71564282 252.38263902 257.09931092\n",
      " 261.86615732 266.68369572 271.55246434 276.47302407 281.44596045\n",
      " 286.47188562 291.55144033 296.68529587 301.87415609 307.1187593\n",
      " 312.41988034 317.77833244 323.1949693  328.67068697 334.20642588\n",
      " 339.8031728  345.46196278 351.18388118 356.97006559 362.82170781\n",
      " 368.74005584 374.72641586 380.78215415 386.90869914 393.10754329\n",
      " 399.38024515 405.72843127 412.1537982  418.65811445 425.24322246\n",
      " 431.9110406  438.6635651  445.50287205 452.43111935 459.4505487\n",
      " 466.56348759 473.77235121 481.07964448 488.48796399 496.        ]\n"
     ]
    }
   ],
   "source": [
    "# taking input from user \n",
    "n = int(input(\"enter number of x or y terms :\"))\n",
    "x_given = np.array([float(input(\"enter x value :\")) for i in range(n)],dtype = float)\n",
    "y_given = np.array([float(input(\"enter y value :\")) for i in range(n)],dtype = float)\n",
    "x = np.linspace(np.min(x_given),np.max(x_given),100) # x axis\n",
    "coefficient = np.zeros((n,len(x)))\n",
    "function = np.zeros(len(x))\n",
    "for i in range(n):\n",
    "    den = 1\n",
    "    for j in range(n):\n",
    "        if i!=j:\n",
    "            den *= x_given[i]-x_given[j]\n",
    "    for k in range(len(x)):\n",
    "        num = 1\n",
    "        for l in range(n):\n",
    "            if i!=l:\n",
    "                num*= x[k]-x_given[l]\n",
    "        coefficient[i][k] = num/den\n",
    "        \n",
    "for i in range(n):\n",
    "    for j in range(len(x)):\n",
    "        function[j] += coefficient[i][j]*y_given[i]\n",
    "print(coefficient)\n",
    "print(function)\n",
    "\n"
   ]
  },
  {
   "cell_type": "code",
   "execution_count": 7,
   "id": "75c878d7",
   "metadata": {},
   "outputs": [
    {
     "name": "stdout",
     "output_type": "stream",
     "text": [
      "[<matplotlib.lines.Line2D object at 0x0000023F2E2DDAC0>]\n",
      "Text(0.5, 1.0, 'Lagrange interpolation')\n",
      "Text(0.5, 0, 'x')\n",
      "Text(0, 0.5, 'y')\n"
     ]
    },
    {
     "data": {
      "image/png": "[encoded data removed]",
      "text/plain": [
       "<Figure size 432x288 with 1 Axes>"
      ]
     },
     "metadata": {
      "needs_background": "light"
     },
     "output_type": "display_data"
    },
    {
     "name": "stdout",
     "output_type": "stream",
     "text": [
      "None\n"
     ]
    }
   ],
   "source": [
    "# plotiing\n",
    "print(plt.plot(x,function))\n",
    "print(plt.title(\"Lagrange interpolation\"))\n",
    "print(plt.xlabel(\"x\"))\n",
    "print(plt.ylabel(\"y\"))\n",
    "print(plt.show())"
   ]
  },
  {
   "cell_type": "code",
   "execution_count": null,
   "id": "9f56a169",
   "metadata": {},
   "outputs": [],
   "source": []
  }
 ],
 "metadata": {
  "kernelspec": {
   "display_name": "Python 3",
   "language": "python",
   "name": "python3"
  },
  "language_info": {
   "codemirror_mode": {
    "name": "ipython",
    "version": 3
   },
   "file_extension": ".py",
   "mimetype": "text/x-python",
   "name": "python",
   "nbconvert_exporter": "python",
   "pygments_lexer": "ipython3",
   "version": "3.8.8"
  }
 },
 "nbformat": 4,
 "nbformat_minor": 5
}
