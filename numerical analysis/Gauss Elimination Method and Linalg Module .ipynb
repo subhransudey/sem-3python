{
 "cells": [
  {
   "cell_type": "markdown",
   "id": "98d981a2",
   "metadata": {},
   "source": [
    "# Introduction "
   ]
  },
  {
   "cell_type": "markdown",
   "id": "0cc09ad2",
   "metadata": {},
   "source": [
    "In mathematics, Gaussian elimination, also known as row reduction, is an algorithm for solving systems of linear equations. It consists of a sequence of operations performed on the corresponding matrix of coefficients. This method can also be used to compute the rank of a matrix, the determinant of a square matrix, and the inverse of an invertible matrix. The method is named after Carl Friedrich Gauss (1777–1855) although some special cases of the method—albeit presented without proof—were known to Chinese mathematicians as early as circa 179 CE."
   ]
  },
  {
   "cell_type": "markdown",
   "id": "bb5d7d78",
   "metadata": {},
   "source": [
    "## Solving Linear Equations: Gaussian Elimination with pivoting "
   ]
  },
  {
   "cell_type": "markdown",
   "id": "883c3933",
   "metadata": {},
   "source": [
    "Gauss elemination is a method to solve a system of linear equations. \n",
    "\n",
    "Let us consider a system of linear equations.\n",
    "\n",
    "$$2x+y-z = 8$$\n",
    "$$-3x-y+2z = -11$$\n",
    "$$-2x +y+ 2z =-3 $$"
   ]
  },
  {
   "cell_type": "markdown",
   "id": "e7c99191",
   "metadata": {},
   "source": [
    "So, we now have to perform row operations such that we make it upper triangular matrix using\n",
    "row operations using a pivot.\n",
    "\n",
    "\\begin{bmatrix}\n",
    "2 & 1 & -1 & 8 \\\\\n",
    "-3 & -1  & 2 & -11 \\\\\n",
    "-2 & 1 & 2 & -3\\\\\n",
    "\\end{bmatrix}\n"
   ]
  },
  {
   "cell_type": "markdown",
   "id": "fffd5285",
   "metadata": {},
   "source": [
    "$$R_2 \\rightarrow R_2 + \\frac{3}{2}R_1$$ \n",
    "\n",
    "$$R_3 \\rightarrow R_3 +R_1$$"
   ]
  },
  {
   "cell_type": "markdown",
   "id": "fe94dba1",
   "metadata": {},
   "source": [
    "\\begin{bmatrix}\n",
    "2 & 1 & -1 & 8\\\\\n",
    "0 & \\frac{1}{2} & \\frac{1}{2} & 1 \\\\\n",
    "0 & 2 & 1 & 5\n",
    "\\end{bmatrix}"
   ]
  },
  {
   "cell_type": "markdown",
   "id": "5e4b4486",
   "metadata": {},
   "source": [
    "$$R_3 \\rightarrow R_ 3 -4\\times R_2$$"
   ]
  },
  {
   "cell_type": "markdown",
   "id": "2217fe58",
   "metadata": {},
   "source": [
    "\\begin{bmatrix}\n",
    "2 & 1 &-1 &8\\\\\n",
    "0 & \\frac{1}{2} & \\frac{1}{2} & 1\\\\\n",
    "0 & 0 & -1 & 1\\\\\n",
    "\\end{bmatrix}\\\\\n",
    "\n",
    "The matrix is now in echelon form (also called triangular form)\n",
    " "
   ]
  },
  {
   "cell_type": "markdown",
   "id": "f477512b",
   "metadata": {},
   "source": [
    "back substitution  :"
   ]
  },
  {
   "cell_type": "markdown",
   "id": "08b19f69",
   "metadata": {},
   "source": [
    "$$-z = 1 $$\n",
    "\n",
    "$$\\implies z = -1$$\n",
    "\n",
    "puttng the value of z \n",
    "\n",
    "$$\\frac{1}{2}y -\\frac{1}{2} = 1$$\n",
    "\n",
    "$$\\implies y = 3$$\n",
    "\n",
    "putting the values of y,z\n",
    "\n",
    "$$2x + 3 +1 = 8$$\n",
    "\n",
    "$$\\implies x = 2 $$"
   ]
  },
  {
   "cell_type": "markdown",
   "id": "293d5bd8",
   "metadata": {},
   "source": [
    "## Code : "
   ]
  },
  {
   "cell_type": "code",
   "execution_count": 1,
   "id": "db337d8b",
   "metadata": {},
   "outputs": [
    {
     "name": "stdout",
     "output_type": "stream",
     "text": [
      "[[  2.   1.  -1.   8.]\n",
      " [ -3.  -1.   2. -11.]\n",
      " [ -2.   1.   2.  -3.]]\n"
     ]
    }
   ],
   "source": [
    "import numpy as np \n",
    "# augmented matrix \n",
    "arr = np.array([[2,1,-1,8],[-3,-1,2,-11],[-2,1,2,-3]],dtype = float)\n",
    "print(arr)"
   ]
  },
  {
   "cell_type": "code",
   "execution_count": 2,
   "id": "38699207",
   "metadata": {},
   "outputs": [],
   "source": [
    "row = 3 \n",
    "col = 4 \n",
    "sol = np.zeros(row)"
   ]
  },
  {
   "cell_type": "code",
   "execution_count": 3,
   "id": "d8dab6c3",
   "metadata": {},
   "outputs": [
    {
     "name": "stdout",
     "output_type": "stream",
     "text": [
      "[[ 2.   1.  -1.   8. ]\n",
      " [ 0.   0.5  0.5  1. ]\n",
      " [ 0.   0.  -1.   1. ]]\n"
     ]
    }
   ],
   "source": [
    "# determine constant \n",
    "for i in range(1,row):\n",
    "    for j in range(i,row):\n",
    "        constant = arr[j][i-1]/arr[i-1][i-1]\n",
    "        for k in range(col):\n",
    "            arr[j][k] = arr[j][k] -constant*arr[i-1][k] \n",
    "print(arr)"
   ]
  },
  {
   "cell_type": "code",
   "execution_count": 4,
   "id": "de3403fc",
   "metadata": {},
   "outputs": [
    {
     "name": "stdout",
     "output_type": "stream",
     "text": [
      "[ 2.  3. -1.]\n"
     ]
    }
   ],
   "source": [
    "# back substituion \n",
    "for i in range(row-1,-1,-1):\n",
    "    sol[i] = arr[i][col-1] # store the constatnts in the sol\n",
    "    for j in range(i+1,col-1):\n",
    "        sol[i] = sol[i] - arr[i][j]*sol[j]\n",
    "    sol[i] = sol[i]/arr[i][i]\n",
    "print(sol)"
   ]
  },
  {
   "cell_type": "code",
   "execution_count": 5,
   "id": "c9865d5a",
   "metadata": {},
   "outputs": [
    {
     "name": "stdout",
     "output_type": "stream",
     "text": [
      "determinant is -1.0\n"
     ]
    }
   ],
   "source": [
    "# determinant\n",
    "det = 1\n",
    "for i in range(row):\n",
    "    det = det*arr[i][i]\n",
    "print(f\"determinant is {det}\")"
   ]
  },
  {
   "cell_type": "markdown",
   "id": "3cec2144",
   "metadata": {},
   "source": [
    "now we solve the same problem with linalg module  "
   ]
  },
  {
   "cell_type": "markdown",
   "id": "c9ab1755",
   "metadata": {},
   "source": [
    "## Linalg module :"
   ]
  },
  {
   "cell_type": "code",
   "execution_count": 6,
   "id": "a3157ae0",
   "metadata": {},
   "outputs": [
    {
     "name": "stdout",
     "output_type": "stream",
     "text": [
      "[[ 2.  1. -1.]\n",
      " [-3. -1.  2.]\n",
      " [-2.  1.  2.]]\n",
      "[  8 -11  -3]\n"
     ]
    }
   ],
   "source": [
    "arr1 = np.array([[2,1,-1],[-3,-1,2],[-2,1,2]],dtype = float)\n",
    "arr2 = np.array([8,-11,-3])\n",
    "print(arr1)\n",
    "print(arr2)"
   ]
  },
  {
   "cell_type": "code",
   "execution_count": 7,
   "id": "bbe2aeb0",
   "metadata": {},
   "outputs": [
    {
     "name": "stdout",
     "output_type": "stream",
     "text": [
      "[ 2.  3. -1.]\n"
     ]
    }
   ],
   "source": [
    "solution = np.linalg.solve(arr1,arr2)\n",
    "print(solution)"
   ]
  },
  {
   "cell_type": "code",
   "execution_count": 8,
   "id": "3e2a2a3c",
   "metadata": {},
   "outputs": [
    {
     "name": "stdout",
     "output_type": "stream",
     "text": [
      "solutions of system of linear equations are x = 2.0000000000000004,y = 2.9999999999999996,z = -0.9999999999999991\n"
     ]
    }
   ],
   "source": [
    "x,y,z = solution\n",
    "print(f\"solutions of system of linear equations are x = {x},y = {y},z = {z}\")"
   ]
  },
  {
   "cell_type": "code",
   "execution_count": 9,
   "id": "c8bc3847",
   "metadata": {},
   "outputs": [
    {
     "name": "stdout",
     "output_type": "stream",
     "text": [
      "-0.9999999999999996\n"
     ]
    }
   ],
   "source": [
    "# determinant \n",
    "print(np.linalg.det(arr1))"
   ]
  },
  {
   "cell_type": "code",
   "execution_count": 10,
   "id": "a977018d",
   "metadata": {},
   "outputs": [
    {
     "name": "stdout",
     "output_type": "stream",
     "text": [
      "eigen values are [ 3.21431974  0.46081113 -0.67513087] \n",
      " eigen vectors are [[-0.22113623  0.58085736  0.46692616]\n",
      " [ 0.54213889 -0.08443477 -0.65511222]\n",
      " [ 0.81066898  0.80961441  0.59397638]]\n"
     ]
    }
   ],
   "source": [
    "# eigen values and eigen vectors \n",
    "eig_value, eig_vec = np.linalg.eig(arr1)\n",
    "print(f\"eigen values are {eig_value} \\n eigen vectors are {eig_vec}\")"
   ]
  },
  {
   "cell_type": "code",
   "execution_count": 11,
   "id": "b3bf0f7c",
   "metadata": {},
   "outputs": [
    {
     "name": "stdout",
     "output_type": "stream",
     "text": [
      "[ 3.21431974  0.46081113 -0.67513087]\n",
      "[[ 3.21431974  0.          0.        ]\n",
      " [ 0.          0.46081113  0.        ]\n",
      " [ 0.          0.         -0.67513087]]\n"
     ]
    }
   ],
   "source": [
    "# diagonalization of the matrix\n",
    "eig_values = np.linalg.eigvals(arr1)\n",
    "print(eig_values)\n",
    "diag_matrix = np.zeros((3,3))\n",
    "for i in  range(len(eig_values)):\n",
    "    diag_matrix[i][i] += eig_values[i]\n",
    "print(diag_matrix)"
   ]
  }
 ],
 "metadata": {
  "kernelspec": {
   "display_name": "Python 3",
   "language": "python",
   "name": "python3"
  },
  "language_info": {
   "codemirror_mode": {
    "name": "ipython",
    "version": 3
   },
   "file_extension": ".py",
   "mimetype": "text/x-python",
   "name": "python",
   "nbconvert_exporter": "python",
   "pygments_lexer": "ipython3",
   "version": "3.8.8"
  }
 },
 "nbformat": 4,
 "nbformat_minor": 5
}
