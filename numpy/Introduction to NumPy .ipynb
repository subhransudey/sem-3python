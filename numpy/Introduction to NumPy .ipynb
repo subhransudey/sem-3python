{
 "cells": [
  {
   "cell_type": "markdown",
   "id": "9a1a9541",
   "metadata": {},
   "source": [
    "# Introduction "
   ]
  },
  {
   "cell_type": "markdown",
   "id": "bd0d25f4",
   "metadata": {},
   "source": [
    "NumPy is a Python packagae. It stands for \"Numerical Python\". It is a library consisting of multidimensional array objects and a collection  of routines for processing of array."
   ]
  },
  {
   "cell_type": "markdown",
   "id": "4bd551fc",
   "metadata": {},
   "source": [
    "#  Operations Using NumPy"
   ]
  },
  {
   "cell_type": "markdown",
   "id": "2f447849",
   "metadata": {},
   "source": [
    "Using NumPy, a developer can perform the following operations : \n",
    "    \n",
    "1) Mathematical and logical operations on arrays.\n",
    "\n",
    "2) Fourier transforms and routines for shape manipulation.\n",
    "\n",
    "3) Operations related to linear algebra. NumPy has in-built functions for linear algebra fand random number generation."
   ]
  },
  {
   "cell_type": "markdown",
   "id": "4ea08d43",
   "metadata": {},
   "source": [
    "# What is array ? "
   ]
  },
  {
   "cell_type": "markdown",
   "id": "c526ca57",
   "metadata": {},
   "source": [
    "An array is a collection of data stored in a single variable. This is done by allocating equal\n",
    "memory to for each data. The different datas in the array are denoted by different pointers\n",
    "(denote the position where the data is stored). Arrays can be of many form 1D,2D,3D and\n",
    "so on."
   ]
  },
  {
   "cell_type": "markdown",
   "id": "3ad9eeb5",
   "metadata": {},
   "source": [
    "![](img/array1.png)"
   ]
  },
  {
   "cell_type": "markdown",
   "id": "34f92af9",
   "metadata": {},
   "source": [
    "# Array Creation"
   ]
  },
  {
   "cell_type": "markdown",
   "id": "774bb7dc",
   "metadata": {},
   "source": [
    "To create a array there are many different functions like : array(), arrange(), zeros(),\n",
    "ones(), linspace(), eye(), random(), identity(), rand(), randm(),ranf(),randint()\n",
    "amd more other functions"
   ]
  },
  {
   "cell_type": "markdown",
   "id": "41c0cb32",
   "metadata": {},
   "source": [
    "## Using  array() function"
   ]
  },
  {
   "cell_type": "markdown",
   "id": "c11c2988",
   "metadata": {},
   "source": [
    "### One Dimensional array in NumPy"
   ]
  },
  {
   "cell_type": "markdown",
   "id": "f27ed32e",
   "metadata": {},
   "source": [
    "![](img/array3.jpg)"
   ]
  },
  {
   "cell_type": "markdown",
   "id": "1ca1794d",
   "metadata": {},
   "source": [
    "#### Properties "
   ]
  },
  {
   "cell_type": "markdown",
   "id": "58932407",
   "metadata": {},
   "source": [
    "1) size : number of given data in an array.\n",
    "\n",
    "2) shape : shape of the array or number of rows, number of column.\n",
    "\n",
    "in case of 1D array shape = size \n",
    "\n",
    "3) ndim : number of dimension here it is 1 \n",
    "\n",
    "4) dtype : types of elements in the array. "
   ]
  },
  {
   "cell_type": "markdown",
   "id": "47eb9ea8",
   "metadata": {},
   "source": [
    "#### Examples"
   ]
  },
  {
   "cell_type": "code",
   "execution_count": 1,
   "id": "def43a1c",
   "metadata": {},
   "outputs": [],
   "source": [
    "import numpy as np "
   ]
  },
  {
   "cell_type": "code",
   "execution_count": 2,
   "id": "40c80eed",
   "metadata": {},
   "outputs": [
    {
     "name": "stdout",
     "output_type": "stream",
     "text": [
      "[1 2 3 4 5 6 7 8 9]\n"
     ]
    }
   ],
   "source": [
    "arr1 = np.array([1,2,3,4,5,6,7,8,9])\n",
    "print(arr1)"
   ]
  },
  {
   "cell_type": "code",
   "execution_count": 3,
   "id": "fbb97c2a",
   "metadata": {},
   "outputs": [
    {
     "data": {
      "text/plain": [
       "array([1, 2, 3, 4, 5, 6, 7, 8, 9])"
      ]
     },
     "execution_count": 3,
     "metadata": {},
     "output_type": "execute_result"
    }
   ],
   "source": [
    "arr1"
   ]
  },
  {
   "cell_type": "code",
   "execution_count": 4,
   "id": "d9bda8d9",
   "metadata": {},
   "outputs": [
    {
     "name": "stdout",
     "output_type": "stream",
     "text": [
      "9\n"
     ]
    }
   ],
   "source": [
    "#To check size of the arra we use .size\n",
    "print(arr1.size)"
   ]
  },
  {
   "cell_type": "code",
   "execution_count": 5,
   "id": "76044783",
   "metadata": {},
   "outputs": [
    {
     "name": "stdout",
     "output_type": "stream",
     "text": [
      "(9,)\n"
     ]
    }
   ],
   "source": [
    "# To check shape of the array we use .shape\n",
    "print(arr1.shape)"
   ]
  },
  {
   "cell_type": "code",
   "execution_count": 6,
   "id": "51873bee",
   "metadata": {},
   "outputs": [
    {
     "name": "stdout",
     "output_type": "stream",
     "text": [
      "1\n"
     ]
    }
   ],
   "source": [
    "# To check dimension of the array we use .ndim\n",
    "print(arr1.ndim)"
   ]
  },
  {
   "cell_type": "code",
   "execution_count": 7,
   "id": "7f2c84dc",
   "metadata": {},
   "outputs": [
    {
     "name": "stdout",
     "output_type": "stream",
     "text": [
      "int32\n"
     ]
    }
   ],
   "source": [
    "# To check the data type we use .dtype\n",
    "print(arr1.dtype)"
   ]
  },
  {
   "cell_type": "code",
   "execution_count": 8,
   "id": "6e1df98e",
   "metadata": {},
   "outputs": [
    {
     "name": "stdout",
     "output_type": "stream",
     "text": [
      "float64\n"
     ]
    }
   ],
   "source": [
    "# float datatype \n",
    "arr2 = np.array([1.1,2.5,3,4])\n",
    "print(arr2.dtype)"
   ]
  },
  {
   "cell_type": "code",
   "execution_count": 9,
   "id": "5bd7affb",
   "metadata": {},
   "outputs": [
    {
     "data": {
      "text/plain": [
       "array(['1', '2', '3.5', '4.9', 'hello world'], dtype='<U32')"
      ]
     },
     "execution_count": 9,
     "metadata": {},
     "output_type": "execute_result"
    }
   ],
   "source": [
    "# mixing data type \n",
    "arr3 = np.array([1,2,3.5,4.9,\"hello world\"])\n",
    "arr3"
   ]
  },
  {
   "cell_type": "code",
   "execution_count": 10,
   "id": "24f1cf8b",
   "metadata": {},
   "outputs": [
    {
     "data": {
      "text/plain": [
       "dtype('<U32')"
      ]
     },
     "execution_count": 10,
     "metadata": {},
     "output_type": "execute_result"
    }
   ],
   "source": [
    "\n",
    "arr3.dtype"
   ]
  },
  {
   "cell_type": "code",
   "execution_count": 11,
   "id": "4fb8c9db",
   "metadata": {},
   "outputs": [
    {
     "data": {
      "text/plain": [
       "array([ 1,  2,  3,  4,  5,  6,  7,  8,  9, 10])"
      ]
     },
     "execution_count": 11,
     "metadata": {},
     "output_type": "execute_result"
    }
   ],
   "source": [
    "# array creation using list\n",
    "a = [1,2,3,4,5,6,7,8,9,10]\n",
    "arr4 = np.array(a)\n",
    "arr4"
   ]
  },
  {
   "cell_type": "markdown",
   "id": "2fae19a3",
   "metadata": {},
   "source": [
    "### Two Dimensional array in NumPy"
   ]
  },
  {
   "cell_type": "markdown",
   "id": "9e59046c",
   "metadata": {},
   "source": [
    "![](img/array4.png)"
   ]
  },
  {
   "cell_type": "markdown",
   "id": "061f56c0",
   "metadata": {},
   "source": [
    "#### Properties"
   ]
  },
  {
   "cell_type": "markdown",
   "id": "f10e097a",
   "metadata": {},
   "source": [
    "1) size : number of given data in an array.\n",
    "\n",
    "2) shape : shape of the array or number of rows, number of column.\n",
    "\n",
    "number of rows * number of columlns = size of array\n",
    "\n",
    "3) ndim : number of dimension here it is 1 \n",
    "\n",
    "4) dtype : types of elements in the array. "
   ]
  },
  {
   "cell_type": "markdown",
   "id": "b2085cd7",
   "metadata": {},
   "source": [
    "Remember in sem1 we create matrix using list. matrix is also a two dimensional array in NumPy.\n",
    "\n",
    "we first take all the elements of the first row using list  and then take all the elements of second row and so on... using list\n",
    "and then append it in the list \n"
   ]
  },
  {
   "cell_type": "markdown",
   "id": "73c86f1b",
   "metadata": {},
   "source": [
    "####  Examples"
   ]
  },
  {
   "cell_type": "code",
   "execution_count": 12,
   "id": "f2529af4",
   "metadata": {},
   "outputs": [
    {
     "name": "stdout",
     "output_type": "stream",
     "text": [
      "1 2 \n",
      "3 4 \n"
     ]
    }
   ],
   "source": [
    "mat = [[1,2],[3,4]]\n",
    "\n",
    "for i in range(2):\n",
    " for j in range(2):\n",
    "     print(mat[i][j], end=\" \")\n",
    " print()"
   ]
  },
  {
   "cell_type": "markdown",
   "id": "9f689860",
   "metadata": {},
   "source": [
    "Now look the samae example using NumPy."
   ]
  },
  {
   "cell_type": "code",
   "execution_count": 13,
   "id": "23939a31",
   "metadata": {},
   "outputs": [
    {
     "data": {
      "text/plain": [
       "array([[1, 2],\n",
       "       [3, 4]])"
      ]
     },
     "execution_count": 13,
     "metadata": {},
     "output_type": "execute_result"
    }
   ],
   "source": [
    "arr5 = np.array([[1,2],[3,4]])\n",
    "arr5"
   ]
  },
  {
   "cell_type": "code",
   "execution_count": 14,
   "id": "cd147294",
   "metadata": {},
   "outputs": [
    {
     "name": "stdout",
     "output_type": "stream",
     "text": [
      "4\n"
     ]
    }
   ],
   "source": [
    "# to check size of the array we use .size\n",
    "print(arr5.size)"
   ]
  },
  {
   "cell_type": "code",
   "execution_count": 15,
   "id": "997fcb55",
   "metadata": {},
   "outputs": [
    {
     "name": "stdout",
     "output_type": "stream",
     "text": [
      "(2, 2)\n"
     ]
    }
   ],
   "source": [
    "# To check shape of the array we use .shape\n",
    "print(arr5.shape)"
   ]
  },
  {
   "cell_type": "code",
   "execution_count": 16,
   "id": "35ca4026",
   "metadata": {},
   "outputs": [
    {
     "name": "stdout",
     "output_type": "stream",
     "text": [
      "2\n"
     ]
    }
   ],
   "source": [
    "# to check dimension of array we use .ndim\n",
    "print(arr5.ndim)"
   ]
  },
  {
   "cell_type": "code",
   "execution_count": 17,
   "id": "251d5a2d",
   "metadata": {},
   "outputs": [
    {
     "name": "stdout",
     "output_type": "stream",
     "text": [
      "int32\n"
     ]
    }
   ],
   "source": [
    "# to check data type we use .dtype\n",
    "print(arr5.dtype)"
   ]
  },
  {
   "cell_type": "code",
   "execution_count": 18,
   "id": "3dbafe41",
   "metadata": {},
   "outputs": [
    {
     "data": {
      "text/plain": [
       "array([[1., 2.],\n",
       "       [3., 4.]])"
      ]
     },
     "execution_count": 18,
     "metadata": {},
     "output_type": "execute_result"
    }
   ],
   "source": [
    "# to change the data type \n",
    "arr6 = np.array(mat, dtype = float)\n",
    "arr6"
   ]
  },
  {
   "cell_type": "markdown",
   "id": "9c6110fa",
   "metadata": {},
   "source": [
    "###  Three Dimensional array in NumPy"
   ]
  },
  {
   "cell_type": "markdown",
   "id": "2f501276",
   "metadata": {},
   "source": [
    "![](img/array5.png)"
   ]
  },
  {
   "cell_type": "markdown",
   "id": "e0c9fd59",
   "metadata": {},
   "source": [
    "Three dimensional array is not so important topic. \n",
    "\n",
    "basically three dimensional array is nothing but two dimensional arrays inside a two dimensional array. or array inside array iside array. "
   ]
  },
  {
   "cell_type": "markdown",
   "id": "bd076f0b",
   "metadata": {},
   "source": [
    "#### Properties"
   ]
  },
  {
   "cell_type": "markdown",
   "id": "f63872a7",
   "metadata": {},
   "source": [
    "1) size : number of given data in an array.\n",
    "\n",
    "2) shape : shape of the array or number of two dimensional arrays,  number of rows, number of column.\n",
    "\n",
    "number of two dimensional arrays * number of rows * number of columlns = size of array\n",
    "\n",
    "3) ndim : number of dimension here it is 1 \n",
    "\n",
    "4) dtype : types of elements in the array. "
   ]
  },
  {
   "cell_type": "markdown",
   "id": "da7f032c",
   "metadata": {},
   "source": [
    "#### Examples"
   ]
  },
  {
   "cell_type": "code",
   "execution_count": 19,
   "id": "47f18449",
   "metadata": {},
   "outputs": [
    {
     "data": {
      "text/plain": [
       "array([[[ 1,  2,  3],\n",
       "        [ 4,  5,  6],\n",
       "        [ 7,  8,  9]],\n",
       "\n",
       "       [[10, 11, 12],\n",
       "        [13, 14, 15],\n",
       "        [16, 17, 18]],\n",
       "\n",
       "       [[19, 20, 21],\n",
       "        [22, 23, 24],\n",
       "        [25, 26, 27]]])"
      ]
     },
     "execution_count": 19,
     "metadata": {},
     "output_type": "execute_result"
    }
   ],
   "source": [
    "arr7 = np.array([[[1,2,3],[4,5,6],[7,8,9]],[[10,11,12],[13,14,15],[16,17,18]],[[19,20,21],[22,23,24],[25,26,27]]])\n",
    "arr7"
   ]
  },
  {
   "cell_type": "code",
   "execution_count": 20,
   "id": "81470408",
   "metadata": {},
   "outputs": [
    {
     "name": "stdout",
     "output_type": "stream",
     "text": [
      "27\n"
     ]
    }
   ],
   "source": [
    "# to check the size of the array we use .size\n",
    "print(arr7.size)"
   ]
  },
  {
   "cell_type": "code",
   "execution_count": 21,
   "id": "d7a81bbb",
   "metadata": {},
   "outputs": [
    {
     "name": "stdout",
     "output_type": "stream",
     "text": [
      "(3, 3, 3)\n"
     ]
    }
   ],
   "source": [
    "# to check shape of the element we use .shape\n",
    "print(arr7.shape)"
   ]
  },
  {
   "cell_type": "code",
   "execution_count": 22,
   "id": "b2ffe9de",
   "metadata": {},
   "outputs": [
    {
     "name": "stdout",
     "output_type": "stream",
     "text": [
      "3\n"
     ]
    }
   ],
   "source": [
    "# to check dimension of the array we use .ndim\n",
    "print(arr7.ndim)"
   ]
  },
  {
   "cell_type": "code",
   "execution_count": 23,
   "id": "fdfa038a",
   "metadata": {},
   "outputs": [
    {
     "name": "stdout",
     "output_type": "stream",
     "text": [
      "int32\n"
     ]
    }
   ],
   "source": [
    "# to check data type of the array we use .dtype\n",
    "print(arr7.dtype)"
   ]
  },
  {
   "cell_type": "markdown",
   "id": "766ea5cb",
   "metadata": {},
   "source": [
    "## Using arange() function "
   ]
  },
  {
   "cell_type": "markdown",
   "id": "02075c34",
   "metadata": {},
   "source": [
    "syntax : np.arange(start,stop,step)\n",
    "\n",
    "it is same as range function."
   ]
  },
  {
   "cell_type": "markdown",
   "id": "273d75c9",
   "metadata": {},
   "source": [
    "![](img/array6.jpg)"
   ]
  },
  {
   "cell_type": "code",
   "execution_count": 24,
   "id": "74721fb2",
   "metadata": {},
   "outputs": [
    {
     "name": "stdout",
     "output_type": "stream",
     "text": [
      "[1 3 5 7 9]\n",
      "[1 3 5 7 9]\n"
     ]
    }
   ],
   "source": [
    "print(np.array(range(1,10,2)))\n",
    "print(np.arange(1,10,2))"
   ]
  },
  {
   "cell_type": "markdown",
   "id": "f9492a58",
   "metadata": {},
   "source": [
    "## linespace()"
   ]
  },
  {
   "cell_type": "markdown",
   "id": "52a9b13b",
   "metadata": {},
   "source": [
    "linspace() is used to generate a linea sequence out of the range of number provided.\n",
    "\n",
    "syntax : np.linspace(start,stop,num = 50, endpoint = True)\n",
    "\n",
    "by default num = 50\n",
    "\n",
    "endpoint = True implies we have to consider the endpoint \n",
    "\n",
    "here step = $\\frac{end - start}{num -1}$"
   ]
  },
  {
   "cell_type": "code",
   "execution_count": 25,
   "id": "ca81d76a",
   "metadata": {},
   "outputs": [
    {
     "data": {
      "text/plain": [
       "array([ 1,  2,  3,  4,  5,  6,  7,  8,  9, 10, 11, 12, 13, 14, 15, 16, 17,\n",
       "       18, 19, 20, 21, 22, 23, 24, 25, 26, 27, 28, 29, 30, 31, 32, 33, 34,\n",
       "       35, 36, 37, 38, 39, 40, 41, 42, 43, 44, 45, 46, 47, 48, 49, 50])"
      ]
     },
     "execution_count": 25,
     "metadata": {},
     "output_type": "execute_result"
    }
   ],
   "source": [
    "arr8 = np.linspace(1,50,50,dtype = int)\n",
    "arr8"
   ]
  },
  {
   "cell_type": "code",
   "execution_count": 26,
   "id": "e60f14d8",
   "metadata": {},
   "outputs": [
    {
     "data": {
      "text/plain": [
       "array([ 1.  ,  1.98,  2.96,  3.94,  4.92,  5.9 ,  6.88,  7.86,  8.84,\n",
       "        9.82, 10.8 , 11.78, 12.76, 13.74, 14.72, 15.7 , 16.68, 17.66,\n",
       "       18.64, 19.62, 20.6 , 21.58, 22.56, 23.54, 24.52, 25.5 , 26.48,\n",
       "       27.46, 28.44, 29.42, 30.4 , 31.38, 32.36, 33.34, 34.32, 35.3 ,\n",
       "       36.28, 37.26, 38.24, 39.22, 40.2 , 41.18, 42.16, 43.14, 44.12,\n",
       "       45.1 , 46.08, 47.06, 48.04, 49.02])"
      ]
     },
     "execution_count": 26,
     "metadata": {},
     "output_type": "execute_result"
    }
   ],
   "source": [
    "arr9 = np.linspace(1,50,50, endpoint=False)\n",
    "arr9"
   ]
  },
  {
   "cell_type": "markdown",
   "id": "023a8255",
   "metadata": {},
   "source": [
    "## geomspace"
   ]
  },
  {
   "cell_type": "markdown",
   "id": "ac183ff4",
   "metadata": {},
   "source": [
    "The geomspace() function is used to get numbers spaced evenly on a log scale (a geometric progression).\n",
    "\n",
    "Syntax : np.geomspace(start,stop,num = 50,endpoint = True)"
   ]
  },
  {
   "cell_type": "code",
   "execution_count": 27,
   "id": "c91ebf71",
   "metadata": {},
   "outputs": [
    {
     "data": {
      "text/plain": [
       "array([ 1.,  2.,  4.,  8., 16., 32.])"
      ]
     },
     "execution_count": 27,
     "metadata": {},
     "output_type": "execute_result"
    }
   ],
   "source": [
    "arr10 = np.geomspace(1,32,6)\n",
    "arr10"
   ]
  },
  {
   "cell_type": "code",
   "execution_count": 28,
   "id": "fc33e74a",
   "metadata": {},
   "outputs": [
    {
     "data": {
      "text/plain": [
       "array([ 1.        ,  1.78179744,  3.1748021 ,  5.65685425, 10.0793684 ,\n",
       "       17.95939277])"
      ]
     },
     "execution_count": 28,
     "metadata": {},
     "output_type": "execute_result"
    }
   ],
   "source": [
    "arr11 = np.geomspace(1,32,6, endpoint=False)\n",
    "arr11"
   ]
  },
  {
   "cell_type": "markdown",
   "id": "fa80f706",
   "metadata": {},
   "source": [
    "## logspace"
   ]
  },
  {
   "cell_type": "markdown",
   "id": "4c390b25",
   "metadata": {},
   "source": [
    "Syntax : np.logspace(start,stop,num = 50,base = 10)\n",
    "\n",
    "The logspace() function return numbers spaced evenly on a log scale.\n",
    "In linear space, the sequence starts at base ** start (base to the power of start) and ends with base ** stop."
   ]
  },
  {
   "cell_type": "code",
   "execution_count": 29,
   "id": "93af2dab",
   "metadata": {},
   "outputs": [
    {
     "data": {
      "text/plain": [
       "array([1.e+01, 1.e+02, 1.e+03, 1.e+04, 1.e+05])"
      ]
     },
     "execution_count": 29,
     "metadata": {},
     "output_type": "execute_result"
    }
   ],
   "source": [
    "arr12 = np.logspace(1,5,5)\n",
    "arr12"
   ]
  },
  {
   "cell_type": "code",
   "execution_count": 30,
   "id": "949bca48",
   "metadata": {},
   "outputs": [
    {
     "data": {
      "text/plain": [
       "array([ 2.,  4.,  8., 16., 32.])"
      ]
     },
     "execution_count": 30,
     "metadata": {},
     "output_type": "execute_result"
    }
   ],
   "source": [
    "arr13 = np.logspace(1,5,5,base= 2)\n",
    "arr13"
   ]
  },
  {
   "cell_type": "markdown",
   "id": "3caa895d",
   "metadata": {},
   "source": [
    "##  Dynamic Functions For Array Creations"
   ]
  },
  {
   "cell_type": "markdown",
   "id": "fd2d5bad",
   "metadata": {},
   "source": [
    "### zeros "
   ]
  },
  {
   "cell_type": "markdown",
   "id": "6abb8902",
   "metadata": {},
   "source": [
    "Syntax : np.zeros(shape,dtype=float by default): array filled with zero of the given shape\n",
    "\n",
    "For two or three dimensional arrays we use tuple or list as shape "
   ]
  },
  {
   "cell_type": "code",
   "execution_count": 31,
   "id": "1ca999df",
   "metadata": {},
   "outputs": [
    {
     "data": {
      "text/plain": [
       "array([0., 0., 0., 0., 0., 0., 0., 0., 0., 0.])"
      ]
     },
     "execution_count": 31,
     "metadata": {},
     "output_type": "execute_result"
    }
   ],
   "source": [
    "# one dimensional array creations using .zeros()\n",
    "arr14 = np.zeros(10)\n",
    "arr14"
   ]
  },
  {
   "cell_type": "code",
   "execution_count": 32,
   "id": "2438ded1",
   "metadata": {},
   "outputs": [
    {
     "name": "stdout",
     "output_type": "stream",
     "text": [
      "[0 0 0 0 0 0 0 0 0 0]\n"
     ]
    }
   ],
   "source": [
    "# change the data type \n",
    "print(np.zeros(10, int))"
   ]
  },
  {
   "cell_type": "code",
   "execution_count": 33,
   "id": "a38602e5",
   "metadata": {},
   "outputs": [
    {
     "data": {
      "text/plain": [
       "array([[0., 0., 0., 0., 0.],\n",
       "       [0., 0., 0., 0., 0.],\n",
       "       [0., 0., 0., 0., 0.],\n",
       "       [0., 0., 0., 0., 0.],\n",
       "       [0., 0., 0., 0., 0.]])"
      ]
     },
     "execution_count": 33,
     "metadata": {},
     "output_type": "execute_result"
    }
   ],
   "source": [
    "# two dimensional array creations using .zeros()\n",
    "arr15 = np.zeros((5,5))\n",
    "arr15"
   ]
  },
  {
   "cell_type": "code",
   "execution_count": 34,
   "id": "2fc99391",
   "metadata": {},
   "outputs": [
    {
     "data": {
      "text/plain": [
       "array([[0, 0, 0, 0, 0, 0, 0, 0, 0, 0],\n",
       "       [0, 0, 0, 0, 0, 0, 0, 0, 0, 0],\n",
       "       [0, 0, 0, 0, 0, 0, 0, 0, 0, 0],\n",
       "       [0, 0, 0, 0, 0, 0, 0, 0, 0, 0],\n",
       "       [0, 0, 0, 0, 0, 0, 0, 0, 0, 0],\n",
       "       [0, 0, 0, 0, 0, 0, 0, 0, 0, 0],\n",
       "       [0, 0, 0, 0, 0, 0, 0, 0, 0, 0],\n",
       "       [0, 0, 0, 0, 0, 0, 0, 0, 0, 0],\n",
       "       [0, 0, 0, 0, 0, 0, 0, 0, 0, 0],\n",
       "       [0, 0, 0, 0, 0, 0, 0, 0, 0, 0]])"
      ]
     },
     "execution_count": 34,
     "metadata": {},
     "output_type": "execute_result"
    }
   ],
   "source": [
    "arr16 = np.zeros([10,10],int)\n",
    "arr16"
   ]
  },
  {
   "cell_type": "markdown",
   "id": "2f7e88a4",
   "metadata": {},
   "source": [
    "###  ones"
   ]
  },
  {
   "cell_type": "markdown",
   "id": "12c265d7",
   "metadata": {},
   "source": [
    "Syntax : np.ones(shape,dtype=float by default): array filled with one of the given \n",
    "\n",
    "similarly we use tuple or list for two or three dimensional array."
   ]
  },
  {
   "cell_type": "code",
   "execution_count": 35,
   "id": "35373a97",
   "metadata": {},
   "outputs": [
    {
     "data": {
      "text/plain": [
       "array([1., 1., 1., 1., 1.])"
      ]
     },
     "execution_count": 35,
     "metadata": {},
     "output_type": "execute_result"
    }
   ],
   "source": [
    "#  one dimensional array creations usin .ones()\n",
    "arr17 = np.ones(5)\n",
    "arr17"
   ]
  },
  {
   "cell_type": "code",
   "execution_count": 36,
   "id": "7baabc87",
   "metadata": {},
   "outputs": [
    {
     "data": {
      "text/plain": [
       "array([[1, 1],\n",
       "       [1, 1],\n",
       "       [1, 1]])"
      ]
     },
     "execution_count": 36,
     "metadata": {},
     "output_type": "execute_result"
    }
   ],
   "source": [
    "# two dimensional array creations using .ones()\n",
    "arr18 = np.ones([3,2],int)\n",
    "arr18"
   ]
  },
  {
   "cell_type": "markdown",
   "id": "989d75fc",
   "metadata": {},
   "source": [
    "### full"
   ]
  },
  {
   "cell_type": "markdown",
   "id": "2d742d7c",
   "metadata": {},
   "source": [
    "Syntax : >np.full(shape, value to be filled, dtype= By default the dtype of the value given): An array\n",
    "\n",
    "similarly we use list or tuple for multidimensioal array."
   ]
  },
  {
   "cell_type": "code",
   "execution_count": 37,
   "id": "fd20d713",
   "metadata": {},
   "outputs": [
    {
     "data": {
      "text/plain": [
       "array([4, 4, 4, 4, 4])"
      ]
     },
     "execution_count": 37,
     "metadata": {},
     "output_type": "execute_result"
    }
   ],
   "source": [
    "# one dimensional array creation using .full()\n",
    "arr19 = np.full(5,4,int)\n",
    "arr19"
   ]
  },
  {
   "cell_type": "code",
   "execution_count": 38,
   "id": "2beedc5d",
   "metadata": {},
   "outputs": [
    {
     "data": {
      "text/plain": [
       "array([[5, 5, 5],\n",
       "       [5, 5, 5],\n",
       "       [5, 5, 5]])"
      ]
     },
     "execution_count": 38,
     "metadata": {},
     "output_type": "execute_result"
    }
   ],
   "source": [
    "# two dimensional array creations using .full()\n",
    "arr20 = np.full((3,3), 5)\n",
    "arr20"
   ]
  },
  {
   "cell_type": "markdown",
   "id": "f1818866",
   "metadata": {},
   "source": [
    "### fill"
   ]
  },
  {
   "cell_type": "markdown",
   "id": "feab7546",
   "metadata": {},
   "source": [
    "Syntax : array_name.fill(value)\n",
    "    \n",
    "using fill() we can fill a existing array.\n"
   ]
  },
  {
   "cell_type": "code",
   "execution_count": 39,
   "id": "dbe0ae5c",
   "metadata": {},
   "outputs": [
    {
     "data": {
      "text/plain": [
       "array([[10, 10, 10],\n",
       "       [10, 10, 10],\n",
       "       [10, 10, 10]])"
      ]
     },
     "execution_count": 39,
     "metadata": {},
     "output_type": "execute_result"
    }
   ],
   "source": [
    "arr20.fill(10)\n",
    "arr20"
   ]
  },
  {
   "cell_type": "markdown",
   "id": "333b115b",
   "metadata": {},
   "source": [
    "### eye"
   ]
  },
  {
   "cell_type": "markdown",
   "id": "2b7a281b",
   "metadata": {},
   "source": [
    "return array filled with 0 except kth diagonal whose values are equal to 1\n",
    "\n",
    "Syntax : np.eye(shape,dtype, k)"
   ]
  },
  {
   "cell_type": "code",
   "execution_count": 40,
   "id": "411b3646",
   "metadata": {},
   "outputs": [
    {
     "data": {
      "text/plain": [
       "array([[1., 0., 0., 0., 0.],\n",
       "       [0., 1., 0., 0., 0.],\n",
       "       [0., 0., 1., 0., 0.],\n",
       "       [0., 0., 0., 1., 0.],\n",
       "       [0., 0., 0., 0., 1.]])"
      ]
     },
     "execution_count": 40,
     "metadata": {},
     "output_type": "execute_result"
    }
   ],
   "source": [
    "# when we use single input as shape then it make a squre matrix\n",
    "# by default it makes 1 along principle diagonal \n",
    "arr21 = np.eye(5)\n",
    "arr21"
   ]
  },
  {
   "cell_type": "code",
   "execution_count": 41,
   "id": "f42d4e48",
   "metadata": {},
   "outputs": [
    {
     "data": {
      "text/plain": [
       "array([[1., 0., 0., 0., 0.],\n",
       "       [0., 1., 0., 0., 0.],\n",
       "       [0., 0., 1., 0., 0.]])"
      ]
     },
     "execution_count": 41,
     "metadata": {},
     "output_type": "execute_result"
    }
   ],
   "source": [
    "# creating array with different shapes\n",
    "arr22 = np.eye(3,5)\n",
    "arr22"
   ]
  },
  {
   "cell_type": "code",
   "execution_count": 42,
   "id": "8d41afc1",
   "metadata": {},
   "outputs": [
    {
     "name": "stdout",
     "output_type": "stream",
     "text": [
      "when k is positve then it makes 1 in the upper diagonal.\n"
     ]
    },
    {
     "data": {
      "text/plain": [
       "array([[0., 1., 0., 0., 0., 0., 0., 0., 0.],\n",
       "       [0., 0., 1., 0., 0., 0., 0., 0., 0.],\n",
       "       [0., 0., 0., 1., 0., 0., 0., 0., 0.],\n",
       "       [0., 0., 0., 0., 1., 0., 0., 0., 0.],\n",
       "       [0., 0., 0., 0., 0., 1., 0., 0., 0.]])"
      ]
     },
     "execution_count": 42,
     "metadata": {},
     "output_type": "execute_result"
    }
   ],
   "source": [
    "print(\"when k is positve then it makes 1 in the upper diagonal.\")\n",
    "arr23 = np.eye(5,9,k = 1)\n",
    "arr23\n"
   ]
  },
  {
   "cell_type": "code",
   "execution_count": 43,
   "id": "c0845761",
   "metadata": {},
   "outputs": [
    {
     "name": "stdout",
     "output_type": "stream",
     "text": [
      "when k is negative then it makes 1 in the lower diagonal.\n"
     ]
    },
    {
     "data": {
      "text/plain": [
       "array([[0., 0., 0., 0., 0., 0., 0., 0., 0.],\n",
       "       [1., 0., 0., 0., 0., 0., 0., 0., 0.],\n",
       "       [0., 1., 0., 0., 0., 0., 0., 0., 0.],\n",
       "       [0., 0., 1., 0., 0., 0., 0., 0., 0.],\n",
       "       [0., 0., 0., 1., 0., 0., 0., 0., 0.]])"
      ]
     },
     "execution_count": 43,
     "metadata": {},
     "output_type": "execute_result"
    }
   ],
   "source": [
    "print(\"when k is negative then it makes 1 in the lower diagonal.\")\n",
    "arr24 = np.eye(5,9, k = -1)\n",
    "arr24"
   ]
  },
  {
   "cell_type": "markdown",
   "id": "b4bc3da4",
   "metadata": {},
   "source": [
    "### identity"
   ]
  },
  {
   "cell_type": "markdown",
   "id": "9ab239a5",
   "metadata": {},
   "source": [
    "identity() is same as eye(). identity is only applicable for square matrix.\n",
    "\n",
    "Syntax : np.identity(shape,dtype, k)"
   ]
  },
  {
   "cell_type": "code",
   "execution_count": 44,
   "id": "65923289",
   "metadata": {},
   "outputs": [
    {
     "data": {
      "text/plain": [
       "array([[1., 0., 0., 0.],\n",
       "       [0., 1., 0., 0.],\n",
       "       [0., 0., 1., 0.],\n",
       "       [0., 0., 0., 1.]])"
      ]
     },
     "execution_count": 44,
     "metadata": {},
     "output_type": "execute_result"
    }
   ],
   "source": [
    "arr25 = np.identity(4)\n",
    "arr25\n"
   ]
  },
  {
   "cell_type": "markdown",
   "id": "64f6d77b",
   "metadata": {},
   "source": [
    "### astype"
   ]
  },
  {
   "cell_type": "markdown",
   "id": "73314538",
   "metadata": {},
   "source": [
    "astype() is used to changed data type \n",
    "\n",
    "Syntax : new-array = old_array.astype(dtype)\n"
   ]
  },
  {
   "cell_type": "code",
   "execution_count": 45,
   "id": "9e08bc98",
   "metadata": {},
   "outputs": [
    {
     "data": {
      "text/plain": [
       "array([[1, 0, 0, 0],\n",
       "       [0, 1, 0, 0],\n",
       "       [0, 0, 1, 0],\n",
       "       [0, 0, 0, 1]])"
      ]
     },
     "execution_count": 45,
     "metadata": {},
     "output_type": "execute_result"
    }
   ],
   "source": [
    "arr26 = arr25.astype(int)\n",
    "arr26"
   ]
  },
  {
   "cell_type": "markdown",
   "id": "231d67c8",
   "metadata": {},
   "source": [
    "### reshaping  of array"
   ]
  },
  {
   "cell_type": "markdown",
   "id": "aca85627",
   "metadata": {},
   "source": [
    "array can be reshped by using reshape function or resize function"
   ]
  },
  {
   "cell_type": "markdown",
   "id": "ab907dff",
   "metadata": {},
   "source": [
    "#### reshape function "
   ]
  },
  {
   "cell_type": "markdown",
   "id": "8db4e04a",
   "metadata": {},
   "source": [
    "reshape function  do not change the array data. \n",
    "\n",
    "syntax is np.reshape(array, shape, order) or we may use array.reshape()"
   ]
  },
  {
   "cell_type": "code",
   "execution_count": 46,
   "id": "6fc287c4",
   "metadata": {},
   "outputs": [
    {
     "name": "stdout",
     "output_type": "stream",
     "text": [
      "[ 1  2  3  4  5  6  7  8  9 10 11 12 13 14 15 16 17 18 19 20 21 22 23 24]\n"
     ]
    }
   ],
   "source": [
    "arr27 = np.arange(1,25)\n",
    "print(arr27)"
   ]
  },
  {
   "cell_type": "code",
   "execution_count": 47,
   "id": "9d731284",
   "metadata": {},
   "outputs": [
    {
     "name": "stdout",
     "output_type": "stream",
     "text": [
      "[[ 1  2  3  4  5  6]\n",
      " [ 7  8  9 10 11 12]\n",
      " [13 14 15 16 17 18]\n",
      " [19 20 21 22 23 24]]\n"
     ]
    }
   ],
   "source": [
    "print(arr27.reshape((4,6)))"
   ]
  },
  {
   "cell_type": "code",
   "execution_count": 48,
   "id": "aae92640",
   "metadata": {},
   "outputs": [
    {
     "name": "stdout",
     "output_type": "stream",
     "text": [
      "[[ 1  2  3  4]\n",
      " [ 5  6  7  8]\n",
      " [ 9 10 11 12]\n",
      " [13 14 15 16]\n",
      " [17 18 19 20]\n",
      " [21 22 23 24]]\n"
     ]
    }
   ],
   "source": [
    "print(np.reshape(arr27,(6,4)))"
   ]
  },
  {
   "cell_type": "markdown",
   "id": "e22218d9",
   "metadata": {},
   "source": [
    "#### resize function "
   ]
  },
  {
   "cell_type": "markdown",
   "id": "ad7604b4",
   "metadata": {},
   "source": [
    "resize function can change the data of the array\n",
    "\n",
    "if new array is larger than current array then new array can be filled with repeated\n",
    "copies of array. syntax is np.resize(array, shape)\n"
   ]
  },
  {
   "cell_type": "code",
   "execution_count": 49,
   "id": "00d0d11c",
   "metadata": {},
   "outputs": [
    {
     "name": "stdout",
     "output_type": "stream",
     "text": [
      "[ 1  2  3  4  5  6  7  8  9 10 11 12 13 14 15 16 17 18 19 20 21 22 23 24\n",
      " 25 26 27 28]\n"
     ]
    }
   ],
   "source": [
    "arr28 = np.arange(1,29)\n",
    "print(arr28)"
   ]
  },
  {
   "cell_type": "code",
   "execution_count": 50,
   "id": "ae6278b4",
   "metadata": {},
   "outputs": [
    {
     "name": "stdout",
     "output_type": "stream",
     "text": [
      "[[ 1  2  3  4  5  6  7]\n",
      " [ 8  9 10 11 12 13 14]\n",
      " [15 16 17 18 19 20 21]\n",
      " [22 23 24 25 26 27 28]]\n"
     ]
    }
   ],
   "source": [
    "print(np.resize(arr28,(4,7)))"
   ]
  },
  {
   "cell_type": "code",
   "execution_count": 51,
   "id": "97a0b3b6",
   "metadata": {},
   "outputs": [
    {
     "name": "stdout",
     "output_type": "stream",
     "text": [
      "[[ 1  2  3  4  5  6  7  8  9]\n",
      " [10 11 12 13 14 15 16 17 18]\n",
      " [19 20 21 22 23 24 25 26 27]\n",
      " [28  1  2  3  4  5  6  7  8]]\n"
     ]
    }
   ],
   "source": [
    "print(np.resize(arr28,(4,9)))"
   ]
  },
  {
   "cell_type": "markdown",
   "id": "7f6dfcda",
   "metadata": {},
   "source": [
    "### array flattening"
   ]
  },
  {
   "cell_type": "markdown",
   "id": "1d949553",
   "metadata": {},
   "source": [
    "there are basically two method i know\n",
    "\n",
    "1 flatten method\n",
    "\n",
    "2 ravels function"
   ]
  },
  {
   "cell_type": "markdown",
   "id": "a34f9c47",
   "metadata": {},
   "source": [
    "####  flatten method "
   ]
  },
  {
   "cell_type": "markdown",
   "id": "75561da1",
   "metadata": {},
   "source": [
    "by this method we get copy of a multi dimensional\n",
    "array in one dimensional array.\n",
    "\n",
    "syntax ndarray.flatten(order) by default order is 'c'. there are mainly 4 types\n",
    "\n",
    "1 C : flatten the array in row\n",
    "\n",
    "2 A : flatten in column-major order if a is Fortran contiguous in memory, row-major order otherwise.\n",
    "\n",
    "3 F : flatten the array in column\n",
    "\n",
    "4 K : flatten a in the order the elements occur in memory.\n",
    "\n",
    "usually use C or F\n"
   ]
  },
  {
   "cell_type": "code",
   "execution_count": 52,
   "id": "59fde54e",
   "metadata": {},
   "outputs": [
    {
     "name": "stdout",
     "output_type": "stream",
     "text": [
      "[[1 2 3]\n",
      " [4 5 6]\n",
      " [7 8 9]]\n"
     ]
    }
   ],
   "source": [
    "arr29 = np.arange(1,10).reshape(3,3)\n",
    "print(arr29)"
   ]
  },
  {
   "cell_type": "code",
   "execution_count": 53,
   "id": "716c941e",
   "metadata": {},
   "outputs": [
    {
     "name": "stdout",
     "output_type": "stream",
     "text": [
      "[1 2 3 4 5 6 7 8 9]\n"
     ]
    }
   ],
   "source": [
    "print(arr29.flatten())\n",
    "# by default order is C"
   ]
  },
  {
   "cell_type": "code",
   "execution_count": 54,
   "id": "63fb7359",
   "metadata": {},
   "outputs": [
    {
     "name": "stdout",
     "output_type": "stream",
     "text": [
      "[[1 2 3]\n",
      " [4 5 6]\n",
      " [7 8 9]]\n"
     ]
    }
   ],
   "source": [
    "print(arr29)"
   ]
  },
  {
   "cell_type": "code",
   "execution_count": 55,
   "id": "7acd6298",
   "metadata": {},
   "outputs": [
    {
     "name": "stdout",
     "output_type": "stream",
     "text": [
      "[1 4 7 2 5 8 3 6 9]\n"
     ]
    }
   ],
   "source": [
    "print(arr29.flatten(order = \"F\"))"
   ]
  },
  {
   "cell_type": "code",
   "execution_count": 56,
   "id": "74aba1f1",
   "metadata": {},
   "outputs": [
    {
     "name": "stdout",
     "output_type": "stream",
     "text": [
      "[ 1  2  3  4  5  6 17  8  9]\n",
      "[[1 2 3]\n",
      " [4 5 6]\n",
      " [7 8 9]]\n",
      "[1 2 3 4 5 6 7 8 9]\n"
     ]
    }
   ],
   "source": [
    "arr30 = arr29.flatten()\n",
    "arr30[6] = 17\n",
    "print(arr30)\n",
    "print(arr29)\n",
    "print(arr29.flatten())\n",
    "# hence prove that flatten function do not change the original array it makes a copy of the array."
   ]
  },
  {
   "cell_type": "markdown",
   "id": "2a629161",
   "metadata": {},
   "source": [
    "#### ravel function "
   ]
  },
  {
   "cell_type": "markdown",
   "id": "8910c00c",
   "metadata": {},
   "source": [
    "this is almost same as flatten method main difference is it is\n",
    "just only view of the original array it is needed but in flatten method it\n",
    "always make a copy of original array\n",
    "\n",
    "flatten() is a method not a function that's why we dont write np.flatten()\n",
    "flatten is a method of a nd array but ravar is a function  of a numpy\n",
    "syntax: np.ravel(array, order)\n"
   ]
  },
  {
   "cell_type": "code",
   "execution_count": 57,
   "id": "76a46583",
   "metadata": {},
   "outputs": [
    {
     "name": "stdout",
     "output_type": "stream",
     "text": [
      "[[1 2 3]\n",
      " [4 5 6]\n",
      " [7 8 9]]\n"
     ]
    }
   ],
   "source": [
    "arr31 = np.arange(1,10).reshape(3,3)\n",
    "print(arr31)"
   ]
  },
  {
   "cell_type": "code",
   "execution_count": 58,
   "id": "5a8370ae",
   "metadata": {},
   "outputs": [
    {
     "name": "stdout",
     "output_type": "stream",
     "text": [
      "[1 2 3 4 5 6 7 8 9]\n"
     ]
    }
   ],
   "source": [
    "print(np.ravel(arr31))"
   ]
  },
  {
   "cell_type": "code",
   "execution_count": 59,
   "id": "9af13020",
   "metadata": {},
   "outputs": [
    {
     "name": "stdout",
     "output_type": "stream",
     "text": [
      "[1 4 7 2 5 8 3 6 9]\n"
     ]
    }
   ],
   "source": [
    "print(np.ravel(arr31,order = \"F\"))"
   ]
  },
  {
   "cell_type": "code",
   "execution_count": 60,
   "id": "bbace96d",
   "metadata": {},
   "outputs": [
    {
     "name": "stdout",
     "output_type": "stream",
     "text": [
      "[[ 1  2  3]\n",
      " [ 4  5 18]\n",
      " [ 7  8  9]]\n",
      "[ 1  2  3  4  5 18  7  8  9]\n"
     ]
    }
   ],
   "source": [
    "arr32 = np.ravel(arr31)\n",
    "arr32[5] = 18\n",
    "print(arr31)\n",
    "print(arr31.ravel())\n",
    "# hence prove that ravel can make change in the original array and it only the view of the array."
   ]
  },
  {
   "cell_type": "markdown",
   "id": "37e4320a",
   "metadata": {},
   "source": [
    "### shuffle an array"
   ]
  },
  {
   "cell_type": "markdown",
   "id": "4b1e29cb",
   "metadata": {},
   "source": [
    "there are mainly two function transpose() and swapaxis()\n",
    "\n"
   ]
  },
  {
   "cell_type": "markdown",
   "id": "7d9310a4",
   "metadata": {},
   "source": [
    "#### transpose "
   ]
  },
  {
   "cell_type": "markdown",
   "id": "e2119828",
   "metadata": {},
   "source": [
    "this transpose() is rearrange the dimension of an array\n",
    "\n",
    "syntax : np.transpose(array, axes = None) default value of axes is None.\n",
    "\n",
    "for axes = None it will transpose the array otherwise it will rearrange the array\n",
    "based on that values.\n",
    "\n",
    "it dont coppy the data.\n",
    "\n",
    "for one dimensional array we generally dont use this function because it do not change the\n",
    "order of the array\n",
    "\n",
    "for two dimensional array the number of axes are two first is 0 that is along the column\n",
    "and second is 1 that is along row. there are only two combination available (0,1),(1,0)\n",
    "for (0,1) it is the same order and for (1,0) it is reverse order which refers the transpose or\n",
    " default value\n",
    " note that transpose is also a method so we use array.transpose() or we may use array.T\n",
    " for transpose"
   ]
  },
  {
   "cell_type": "code",
   "execution_count": 61,
   "id": "056a1d7e",
   "metadata": {},
   "outputs": [
    {
     "name": "stdout",
     "output_type": "stream",
     "text": [
      "[[1 2 3]\n",
      " [4 5 6]\n",
      " [7 8 9]]\n"
     ]
    }
   ],
   "source": [
    "arr33 = np.arange(1,10).reshape(3,3)\n",
    "print(arr33)"
   ]
  },
  {
   "cell_type": "code",
   "execution_count": 62,
   "id": "bab19793",
   "metadata": {},
   "outputs": [
    {
     "name": "stdout",
     "output_type": "stream",
     "text": [
      "[[1 4 7]\n",
      " [2 5 8]\n",
      " [3 6 9]]\n"
     ]
    }
   ],
   "source": [
    "print(np.transpose(arr33))"
   ]
  },
  {
   "cell_type": "code",
   "execution_count": 63,
   "id": "5cf02439",
   "metadata": {},
   "outputs": [
    {
     "name": "stdout",
     "output_type": "stream",
     "text": [
      "[[1 2 3]\n",
      " [4 5 6]\n",
      " [7 8 9]]\n"
     ]
    }
   ],
   "source": [
    "print(np.transpose(arr33,axes = (0,1)))\n"
   ]
  },
  {
   "cell_type": "code",
   "execution_count": 64,
   "id": "0f652d0f",
   "metadata": {},
   "outputs": [
    {
     "name": "stdout",
     "output_type": "stream",
     "text": [
      "[[1 4 7]\n",
      " [2 5 8]\n",
      " [3 6 9]]\n"
     ]
    }
   ],
   "source": [
    "print(arr33.transpose((1,0)))"
   ]
  },
  {
   "cell_type": "code",
   "execution_count": 65,
   "id": "3bb7e20d",
   "metadata": {},
   "outputs": [
    {
     "name": "stdout",
     "output_type": "stream",
     "text": [
      "[[1 4 7]\n",
      " [2 5 8]\n",
      " [3 6 9]]\n"
     ]
    }
   ],
   "source": [
    "print(arr33.T)"
   ]
  },
  {
   "cell_type": "markdown",
   "id": "4a461f8b",
   "metadata": {},
   "source": [
    "#### swapaxes "
   ]
  },
  {
   "cell_type": "markdown",
   "id": "c42cd0c0",
   "metadata": {},
   "source": [
    "to change any two axes of an array we may use swapaxes() fuction\n",
    "syntax : np.swapaxes(array, axes1,axes2)\n",
    "here 0,1 and 1,0 are same as this swap the two axes "
   ]
  },
  {
   "cell_type": "code",
   "execution_count": 66,
   "id": "6a0a8fb9",
   "metadata": {},
   "outputs": [
    {
     "name": "stdout",
     "output_type": "stream",
     "text": [
      "[[ 1  2  3  4  5  6]\n",
      " [ 7  8  9 10 11 12]\n",
      " [13 14 15 16 17 18]\n",
      " [19 20 21 22 23 24]]\n"
     ]
    }
   ],
   "source": [
    "arr34 = np.arange(1,25).reshape(4,6)\n",
    "print(arr34)"
   ]
  },
  {
   "cell_type": "code",
   "execution_count": 67,
   "id": "f0d65a47",
   "metadata": {},
   "outputs": [
    {
     "name": "stdout",
     "output_type": "stream",
     "text": [
      "[[ 1  7 13 19]\n",
      " [ 2  8 14 20]\n",
      " [ 3  9 15 21]\n",
      " [ 4 10 16 22]\n",
      " [ 5 11 17 23]\n",
      " [ 6 12 18 24]]\n"
     ]
    }
   ],
   "source": [
    "print(np.swapaxes(arr34,0,1))"
   ]
  },
  {
   "cell_type": "code",
   "execution_count": 68,
   "id": "1b02ba79",
   "metadata": {},
   "outputs": [
    {
     "name": "stdout",
     "output_type": "stream",
     "text": [
      "[[ 1  7 13 19]\n",
      " [ 2  8 14 20]\n",
      " [ 3  9 15 21]\n",
      " [ 4 10 16 22]\n",
      " [ 5 11 17 23]\n",
      " [ 6 12 18 24]]\n"
     ]
    }
   ],
   "source": [
    "print(np.swapaxes(arr34,1,0))"
   ]
  },
  {
   "cell_type": "markdown",
   "id": "765be6a2",
   "metadata": {},
   "source": [
    "### stacking the two arrays"
   ]
  },
  {
   "cell_type": "markdown",
   "id": "0618b610",
   "metadata": {},
   "source": [
    "there are  two functions to join arrays\n",
    "hstack() and vstack()"
   ]
  },
  {
   "cell_type": "markdown",
   "id": "cd8f995f",
   "metadata": {},
   "source": [
    "#### vstack"
   ]
  },
  {
   "cell_type": "markdown",
   "id": "77969953",
   "metadata": {},
   "source": [
    "this function combine arrays vertically\n",
    "\n",
    "syntax : np.vstack(arrays )\n",
    "    \n",
    "in 2D array concatenation vstack() is same as axis as 0"
   ]
  },
  {
   "cell_type": "code",
   "execution_count": 69,
   "id": "3d221481",
   "metadata": {},
   "outputs": [
    {
     "name": "stdout",
     "output_type": "stream",
     "text": [
      "[1 2 3 4 5 6]\n",
      "[7 8 9]\n",
      "[10 11 12]\n"
     ]
    }
   ],
   "source": [
    "arr35 = np.array([1,2,3,4,5,6])\n",
    "arr36 = np.array([7,8,9])\n",
    "arr37 = np.array([10,11,12])\n",
    "print(arr35)\n",
    "print(arr36)\n",
    "print(arr37)"
   ]
  },
  {
   "cell_type": "markdown",
   "id": "5748267b",
   "metadata": {},
   "source": [
    "for 1D array of unequal elements or shapes it show a error\n",
    "actually in vstack() 1D array is treated as a matrix or 2D array with order (1,n)\n",
    "since vstack() is operated along axis 0 so it check the index along the other axis\n"
   ]
  },
  {
   "cell_type": "code",
   "execution_count": 70,
   "id": "22c64f73",
   "metadata": {},
   "outputs": [
    {
     "ename": "ValueError",
     "evalue": "all the input array dimensions for the concatenation axis must match exactly, but along dimension 1, the array at index 0 has size 6 and the array at index 1 has size 3",
     "output_type": "error",
     "traceback": [
      "\u001b[1;31m---------------------------------------------------------------------------\u001b[0m",
      "\u001b[1;31mValueError\u001b[0m                                Traceback (most recent call last)",
      "\u001b[1;32m<ipython-input-70-67e364bf1676>\u001b[0m in \u001b[0;36m<module>\u001b[1;34m\u001b[0m\n\u001b[1;32m----> 1\u001b[1;33m \u001b[0mprint\u001b[0m\u001b[1;33m(\u001b[0m\u001b[0mnp\u001b[0m\u001b[1;33m.\u001b[0m\u001b[0mvstack\u001b[0m\u001b[1;33m(\u001b[0m\u001b[1;33m(\u001b[0m\u001b[0marr35\u001b[0m\u001b[1;33m,\u001b[0m\u001b[0marr36\u001b[0m\u001b[1;33m)\u001b[0m\u001b[1;33m)\u001b[0m\u001b[1;33m)\u001b[0m\u001b[1;33m\u001b[0m\u001b[1;33m\u001b[0m\u001b[0m\n\u001b[0m",
      "\u001b[1;32m<__array_function__ internals>\u001b[0m in \u001b[0;36mvstack\u001b[1;34m(*args, **kwargs)\u001b[0m\n",
      "\u001b[1;32m~\\anaconda3\\lib\\site-packages\\numpy\\core\\shape_base.py\u001b[0m in \u001b[0;36mvstack\u001b[1;34m(tup)\u001b[0m\n\u001b[0;32m    281\u001b[0m     \u001b[1;32mif\u001b[0m \u001b[1;32mnot\u001b[0m \u001b[0misinstance\u001b[0m\u001b[1;33m(\u001b[0m\u001b[0marrs\u001b[0m\u001b[1;33m,\u001b[0m \u001b[0mlist\u001b[0m\u001b[1;33m)\u001b[0m\u001b[1;33m:\u001b[0m\u001b[1;33m\u001b[0m\u001b[1;33m\u001b[0m\u001b[0m\n\u001b[0;32m    282\u001b[0m         \u001b[0marrs\u001b[0m \u001b[1;33m=\u001b[0m \u001b[1;33m[\u001b[0m\u001b[0marrs\u001b[0m\u001b[1;33m]\u001b[0m\u001b[1;33m\u001b[0m\u001b[1;33m\u001b[0m\u001b[0m\n\u001b[1;32m--> 283\u001b[1;33m     \u001b[1;32mreturn\u001b[0m \u001b[0m_nx\u001b[0m\u001b[1;33m.\u001b[0m\u001b[0mconcatenate\u001b[0m\u001b[1;33m(\u001b[0m\u001b[0marrs\u001b[0m\u001b[1;33m,\u001b[0m \u001b[1;36m0\u001b[0m\u001b[1;33m)\u001b[0m\u001b[1;33m\u001b[0m\u001b[1;33m\u001b[0m\u001b[0m\n\u001b[0m\u001b[0;32m    284\u001b[0m \u001b[1;33m\u001b[0m\u001b[0m\n\u001b[0;32m    285\u001b[0m \u001b[1;33m\u001b[0m\u001b[0m\n",
      "\u001b[1;32m<__array_function__ internals>\u001b[0m in \u001b[0;36mconcatenate\u001b[1;34m(*args, **kwargs)\u001b[0m\n",
      "\u001b[1;31mValueError\u001b[0m: all the input array dimensions for the concatenation axis must match exactly, but along dimension 1, the array at index 0 has size 6 and the array at index 1 has size 3"
     ]
    }
   ],
   "source": [
    "print(np.vstack((arr35,arr36)))"
   ]
  },
  {
   "cell_type": "code",
   "execution_count": null,
   "id": "9d44f3b5",
   "metadata": {},
   "outputs": [],
   "source": [
    "print(np.vstack((arr36,arr37)))"
   ]
  },
  {
   "cell_type": "markdown",
   "id": "4b02bb3a",
   "metadata": {},
   "source": [
    "in 2D array vstack() is same as concatenate with axis 0\n",
    " vstack() behave different in 1D array but in 2D or other arrays it behave like as concatenate \"\"\"\n"
   ]
  },
  {
   "cell_type": "code",
   "execution_count": 71,
   "id": "5807cb65",
   "metadata": {},
   "outputs": [
    {
     "name": "stdout",
     "output_type": "stream",
     "text": [
      "[[1 2]\n",
      " [3 4]]\n",
      "[[5 6]\n",
      " [7 8]]\n"
     ]
    }
   ],
   "source": [
    "arr38 = np.arange(1,5).reshape(2,2)\n",
    "arr39 = np.arange(5,9).reshape(2,2)\n",
    "print(arr38)\n",
    "print(arr39)"
   ]
  },
  {
   "cell_type": "code",
   "execution_count": 72,
   "id": "b6daf1d1",
   "metadata": {},
   "outputs": [
    {
     "name": "stdout",
     "output_type": "stream",
     "text": [
      "[[1 2]\n",
      " [3 4]\n",
      " [5 6]\n",
      " [7 8]]\n"
     ]
    }
   ],
   "source": [
    "print(np.vstack((arr38,arr39)))"
   ]
  },
  {
   "cell_type": "markdown",
   "id": "50a4d12b",
   "metadata": {},
   "source": [
    "#### hstack"
   ]
  },
  {
   "cell_type": "markdown",
   "id": "446e19e7",
   "metadata": {},
   "source": [
    "this function combines arrays in horizontally\n",
    "\n",
    "syntax np.hstack(arrays)\n",
    "\n",
    "here axis is 1\n",
    "\n",
    "in 1D it behaves different but in 2D or other arrays it behaves like concatenate with axis 1\n"
   ]
  },
  {
   "cell_type": "code",
   "execution_count": 73,
   "id": "6820582e",
   "metadata": {},
   "outputs": [
    {
     "name": "stdout",
     "output_type": "stream",
     "text": [
      "[1 2 3 4]\n",
      "[5 6 7 8]\n"
     ]
    }
   ],
   "source": [
    "arr40 = np.arange(1,5)\n",
    "arr41 = np.arange(5,9)\n",
    "print(arr40)\n",
    "print(arr41)"
   ]
  },
  {
   "cell_type": "code",
   "execution_count": 74,
   "id": "5077dfd9",
   "metadata": {},
   "outputs": [
    {
     "name": "stdout",
     "output_type": "stream",
     "text": [
      "[1 2 3 4 5 6 7 8]\n"
     ]
    }
   ],
   "source": [
    "print(np.hstack((arr40,arr41)))"
   ]
  },
  {
   "cell_type": "code",
   "execution_count": 75,
   "id": "f5de102f",
   "metadata": {},
   "outputs": [
    {
     "name": "stdout",
     "output_type": "stream",
     "text": [
      "[[1 2]\n",
      " [3 4]]\n",
      "[[5 6]\n",
      " [7 8]]\n"
     ]
    }
   ],
   "source": [
    "arr42 = np.arange(1,5).reshape(2,2)\n",
    "arr43 = np.arange(5,9).reshape(2,2)\n",
    "print(arr42)\n",
    "print(arr43)"
   ]
  },
  {
   "cell_type": "code",
   "execution_count": 76,
   "id": "102b84ab",
   "metadata": {},
   "outputs": [
    {
     "name": "stdout",
     "output_type": "stream",
     "text": [
      "[[1 2 5 6]\n",
      " [3 4 7 8]]\n"
     ]
    }
   ],
   "source": [
    "print(np.hstack((arr42,arr43)))"
   ]
  },
  {
   "cell_type": "markdown",
   "id": "b2bf2d58",
   "metadata": {},
   "source": [
    "# Array Indexing and Slicing"
   ]
  },
  {
   "cell_type": "markdown",
   "id": "0e7a05ad",
   "metadata": {},
   "source": [
    "## 1D array indexing"
   ]
  },
  {
   "cell_type": "markdown",
   "id": "9757958e",
   "metadata": {},
   "source": [
    "![](img/array7.png)"
   ]
  },
  {
   "cell_type": "code",
   "execution_count": 77,
   "id": "9f36f949",
   "metadata": {},
   "outputs": [
    {
     "name": "stdout",
     "output_type": "stream",
     "text": [
      "[1 2 3 4 5]\n",
      "1\n",
      "5\n",
      "5\n",
      "2\n"
     ]
    }
   ],
   "source": [
    "arr44 = np.arange(1,6)\n",
    "print(arr44)\n",
    "# array indexing is similar to list indexing\n",
    "print(arr44[0])\n",
    "print(arr44[4])\n",
    "print(arr44[-1])\n",
    "print(arr44[-4])"
   ]
  },
  {
   "cell_type": "markdown",
   "id": "1b97c110",
   "metadata": {},
   "source": [
    "## 2D array indexing"
   ]
  },
  {
   "cell_type": "markdown",
   "id": "fbb89ea7",
   "metadata": {},
   "source": [
    " for 2D indexing we use 2[] for first one we use row number and\n",
    "for second one we use column number. for row number index of first row is 0 and so on...\n",
    "and for column index of first column is 0 and so  on......\n",
    "here we also use negative indexing\n",
    "for printing only a single row we use single[] and use index number of the row"
   ]
  },
  {
   "cell_type": "markdown",
   "id": "c04556f0",
   "metadata": {},
   "source": [
    "![](img/array8.png)"
   ]
  },
  {
   "cell_type": "code",
   "execution_count": 78,
   "id": "5fbaf786",
   "metadata": {},
   "outputs": [
    {
     "name": "stdout",
     "output_type": "stream",
     "text": [
      "[[1 2 3]\n",
      " [4 5 6]\n",
      " [7 8 9]]\n",
      "[1 2 3]\n",
      "[4 5 6]\n"
     ]
    }
   ],
   "source": [
    "arr45 = np.array([[1,2,3],[4,5,6],[7,8,9]])\n",
    "print(arr45)\n",
    "print(arr45[0]) # for printing first row \n",
    "print(arr45[1]) # for printing second row \n",
    "# there are no method to print columns using indexing. but later we do this using slicing.\n"
   ]
  },
  {
   "cell_type": "code",
   "execution_count": 79,
   "id": "c3eef865",
   "metadata": {},
   "outputs": [
    {
     "name": "stdout",
     "output_type": "stream",
     "text": [
      "1\n",
      "5\n",
      "9\n"
     ]
    }
   ],
   "source": [
    "print(arr45[0,0]) \n",
    "print(arr45[1,1])\n",
    "print(arr45[-1,-1])"
   ]
  },
  {
   "cell_type": "markdown",
   "id": "0cd4a3f8",
   "metadata": {},
   "source": [
    "##  1D array slicing"
   ]
  },
  {
   "cell_type": "markdown",
   "id": "176d2efb",
   "metadata": {},
   "source": [
    "slicing operation  in array. to retrieve a collection of values we use slicing method"
   ]
  },
  {
   "cell_type": "markdown",
   "id": "b968dcbb",
   "metadata": {},
   "source": [
    "syntax of the 1D array slicing is array_name[start : stop : step]\n",
    "here start is starting index, stop is stopping index and step is difference between index\n",
    "and here stopping index is excluded and here default step is 1 and default start is starting index\n",
    "and default stopping index is stopping index"
   ]
  },
  {
   "cell_type": "code",
   "execution_count": 80,
   "id": "5cec973b",
   "metadata": {},
   "outputs": [
    {
     "name": "stdout",
     "output_type": "stream",
     "text": [
      "[1 2 3 4 5]\n"
     ]
    }
   ],
   "source": [
    "print(arr44)"
   ]
  },
  {
   "cell_type": "code",
   "execution_count": 81,
   "id": "babd367e",
   "metadata": {},
   "outputs": [
    {
     "name": "stdout",
     "output_type": "stream",
     "text": [
      "[1 2 3 4 5]\n"
     ]
    }
   ],
   "source": [
    "print(arr44[::]) # to print full array"
   ]
  },
  {
   "cell_type": "code",
   "execution_count": 82,
   "id": "cf888969",
   "metadata": {},
   "outputs": [
    {
     "name": "stdout",
     "output_type": "stream",
     "text": [
      "[1 2 3]\n"
     ]
    }
   ],
   "source": [
    "print(arr44[0:3])"
   ]
  },
  {
   "cell_type": "code",
   "execution_count": 83,
   "id": "03b93652",
   "metadata": {},
   "outputs": [
    {
     "name": "stdout",
     "output_type": "stream",
     "text": [
      "[1 3 5]\n"
     ]
    }
   ],
   "source": [
    "print(arr44[0:5:2]) "
   ]
  },
  {
   "cell_type": "code",
   "execution_count": 84,
   "id": "d18b18f4",
   "metadata": {},
   "outputs": [
    {
     "name": "stdout",
     "output_type": "stream",
     "text": [
      "[3 4 5]\n"
     ]
    }
   ],
   "source": [
    "print(arr44[2:])"
   ]
  },
  {
   "cell_type": "code",
   "execution_count": 85,
   "id": "c832d707",
   "metadata": {},
   "outputs": [
    {
     "name": "stdout",
     "output_type": "stream",
     "text": [
      "[1 2 3 4]\n"
     ]
    }
   ],
   "source": [
    "print(arr44[:4])"
   ]
  },
  {
   "cell_type": "markdown",
   "id": "8e574fc7",
   "metadata": {},
   "source": [
    "## 2D array slicing"
   ]
  },
  {
   "cell_type": "markdown",
   "id": "38102b16",
   "metadata": {},
   "source": [
    "syntax is array_name[strat:end:step, start: end :step]\n",
    "here first part is for row and second part is for column\n"
   ]
  },
  {
   "cell_type": "code",
   "execution_count": 86,
   "id": "6271da88",
   "metadata": {},
   "outputs": [
    {
     "name": "stdout",
     "output_type": "stream",
     "text": [
      "[[1 2 3]\n",
      " [4 5 6]\n",
      " [7 8 9]]\n"
     ]
    }
   ],
   "source": [
    "print(arr45)"
   ]
  },
  {
   "cell_type": "code",
   "execution_count": 87,
   "id": "2c953cbe",
   "metadata": {},
   "outputs": [
    {
     "name": "stdout",
     "output_type": "stream",
     "text": [
      "[[1 2 3]\n",
      " [4 5 6]\n",
      " [7 8 9]]\n"
     ]
    }
   ],
   "source": [
    "print(arr45[::]) # to print full array"
   ]
  },
  {
   "cell_type": "code",
   "execution_count": 88,
   "id": "9cf3b87e",
   "metadata": {},
   "outputs": [
    {
     "name": "stdout",
     "output_type": "stream",
     "text": [
      "[[1 2 3]]\n",
      "[[4 5 6]]\n",
      "[[7 8 9]]\n"
     ]
    }
   ],
   "source": [
    "# to print rows \n",
    "print(arr45[0:1])\n",
    "print(arr45[1:2])\n",
    "print(arr45[2:3])"
   ]
  },
  {
   "cell_type": "code",
   "execution_count": 89,
   "id": "7d764137",
   "metadata": {
    "scrolled": false
   },
   "outputs": [
    {
     "name": "stdout",
     "output_type": "stream",
     "text": [
      "[1 4 7]\n",
      "[2 5 8]\n",
      "[3 6 9]\n",
      "[[1 2]\n",
      " [4 5]\n",
      " [7 8]]\n"
     ]
    }
   ],
   "source": [
    "# to print columns\n",
    "print(arr45[:,0])\n",
    "print(arr45[:,1])\n",
    "print(arr45[:,2])\n",
    "# to print first two columns \n",
    "print(arr45[:,0:2])"
   ]
  },
  {
   "cell_type": "code",
   "execution_count": 90,
   "id": "728393da",
   "metadata": {},
   "outputs": [
    {
     "name": "stdout",
     "output_type": "stream",
     "text": [
      "[[1 2 3]\n",
      " [4 5 6]\n",
      " [7 8 9]]\n"
     ]
    }
   ],
   "source": [
    "print(arr45)"
   ]
  },
  {
   "cell_type": "code",
   "execution_count": 91,
   "id": "044ec9a8",
   "metadata": {},
   "outputs": [
    {
     "name": "stdout",
     "output_type": "stream",
     "text": [
      "[[1 2]]\n"
     ]
    }
   ],
   "source": [
    "# to print first two elements of first row.\n",
    "print(arr45[:1,:2])"
   ]
  },
  {
   "cell_type": "code",
   "execution_count": 92,
   "id": "17ce29ae",
   "metadata": {},
   "outputs": [
    {
     "name": "stdout",
     "output_type": "stream",
     "text": [
      "[[8 9]]\n"
     ]
    }
   ],
   "source": [
    "# to print last two elements means 8,9\n",
    "print(arr45[2:,1:])"
   ]
  },
  {
   "cell_type": "code",
   "execution_count": 93,
   "id": "81116922",
   "metadata": {},
   "outputs": [
    {
     "name": "stdout",
     "output_type": "stream",
     "text": [
      "[[1 2]\n",
      " [4 5]]\n"
     ]
    }
   ],
   "source": [
    "# to print first 4 square matrix elemlents mens 1,2,4,5\n",
    "print(arr45[:2,:2])"
   ]
  },
  {
   "cell_type": "code",
   "execution_count": 94,
   "id": "bf1caae0",
   "metadata": {},
   "outputs": [
    {
     "name": "stdout",
     "output_type": "stream",
     "text": [
      "[[5 6]\n",
      " [8 9]]\n"
     ]
    }
   ],
   "source": [
    "# to print last 4 square elements means 5,6,8,9\n",
    "print(arr45[1:,1:])"
   ]
  },
  {
   "cell_type": "markdown",
   "id": "800e70ee",
   "metadata": {},
   "source": [
    "thats about array indexing and slilcing..."
   ]
  },
  {
   "cell_type": "markdown",
   "id": "f6f8b7a3",
   "metadata": {},
   "source": [
    "## Arithmetic  operation : "
   ]
  },
  {
   "cell_type": "markdown",
   "id": "6c5f0a7b",
   "metadata": {},
   "source": [
    "arithmetic operations are basically two types one is by using scalars such that multiplying\n",
    "or dividing by scalars and other one is array operations such that multiplying two arrays and more\n"
   ]
  },
  {
   "cell_type": "markdown",
   "id": "4a5f00ed",
   "metadata": {},
   "source": [
    "### scalar operations"
   ]
  },
  {
   "cell_type": "code",
   "execution_count": 95,
   "id": "e5c550c7",
   "metadata": {},
   "outputs": [
    {
     "name": "stdout",
     "output_type": "stream",
     "text": [
      "[1 2 3 4 5]\n",
      "[3 4 5 6 7]\n",
      "[0 1 2 3 4]\n",
      "[ 5 10 15 20 25]\n",
      "[0.25 0.5  0.75 1.   1.25]\n",
      "[ 1  4  9 16 25]\n"
     ]
    }
   ],
   "source": [
    "arr46 = np.arange(1,6)\n",
    "print(arr46)\n",
    "# to add or subtract or multiplying or dividing  by  scalar to every element of the array\n",
    "print(arr46 + 2)\n",
    "print(arr46 -1)\n",
    "print(arr46*5)\n",
    "print(arr46/4)\n",
    "print(arr46**2)"
   ]
  },
  {
   "cell_type": "markdown",
   "id": "83c6238b",
   "metadata": {},
   "source": [
    "to add or subtract or other mathematical operations is same in nd array\n",
    "print(i1)"
   ]
  },
  {
   "cell_type": "code",
   "execution_count": 96,
   "id": "bfafa257",
   "metadata": {},
   "outputs": [
    {
     "name": "stdout",
     "output_type": "stream",
     "text": [
      "[[1 2]\n",
      " [3 4]]\n",
      "[[3 4]\n",
      " [5 6]]\n",
      "[[0 1]\n",
      " [2 3]]\n",
      "[[2 4]\n",
      " [6 8]]\n",
      "[[0.5 1. ]\n",
      " [1.5 2. ]]\n",
      "[[ 1  4]\n",
      " [ 9 16]]\n"
     ]
    }
   ],
   "source": [
    "arr47 = np.array([[1,2],[3,4]])\n",
    "print(arr47)\n",
    "print(arr47+2)\n",
    "print(arr47-1)\n",
    "print(arr47*2)\n",
    "print(arr47/2)\n",
    "print(arr47**2)"
   ]
  },
  {
   "cell_type": "markdown",
   "id": "065abeed",
   "metadata": {},
   "source": [
    "### arithmetic operations with arrays"
   ]
  },
  {
   "cell_type": "code",
   "execution_count": 97,
   "id": "7159e7ac",
   "metadata": {},
   "outputs": [
    {
     "name": "stdout",
     "output_type": "stream",
     "text": [
      "[1 2 3 4 5]\n",
      "[ 6  7  8  9 10]\n",
      "[ 7  9 11 13 15]\n",
      "[-5 -5 -5 -5 -5]\n",
      "[ 6 14 24 36 50]\n",
      "[0.16666667 0.28571429 0.375      0.44444444 0.5       ]\n",
      "[      1     128    6561  262144 9765625]\n"
     ]
    }
   ],
   "source": [
    "# for 1D array\n",
    "arr48 = np.arange(1,6)\n",
    "arr49 = np.arange(6,11)\n",
    "print(arr48)\n",
    "print(arr49)\n",
    "print(arr48+arr49)\n",
    "print(arr48-arr49)\n",
    "print(arr48*arr49)\n",
    "print(arr48/arr49)\n",
    "print(arr48**arr49)"
   ]
  },
  {
   "cell_type": "code",
   "execution_count": 98,
   "id": "1ab5f12e",
   "metadata": {},
   "outputs": [
    {
     "name": "stdout",
     "output_type": "stream",
     "text": [
      "[[1 2]\n",
      " [3 4]]\n",
      "[[5 6]\n",
      " [7 8]]\n",
      "[[ 6  8]\n",
      " [10 12]]\n",
      "[[-4 -4]\n",
      " [-4 -4]]\n",
      "[[ 5 12]\n",
      " [21 32]]\n",
      "[[0.2        0.33333333]\n",
      " [0.42857143 0.5       ]]\n"
     ]
    }
   ],
   "source": [
    "arr50 = np.arange(1,5).reshape(2,2)\n",
    "print(arr50)\n",
    "arr51 = np.arange(5,9).reshape(2,2)\n",
    "print(arr51)\n",
    "#for addition, subtraction, division, multiplication  same index will be operated\n",
    "print(arr50+arr51)\n",
    "print(arr50-arr51)\n",
    "print(arr50*arr51)# note that this multiplication is not same as matrix multiplication\n",
    "print(arr50/arr51)"
   ]
  },
  {
   "cell_type": "markdown",
   "id": "8fd75274",
   "metadata": {},
   "source": [
    "instead of using operators we may use functions also given below\n",
    "\n",
    "a+b =  np.add(a,b)\n",
    "\n",
    "a-b =  np.subtract(a,b)\n",
    "\n",
    "a*b = np.multiply(a,b)\n",
    "\n",
    "a/b = np.divide(a,b)\n",
    "\n",
    "a%b = np.mod(a,b)\n",
    "\n",
    "a**b = np.power(a,b)"
   ]
  },
  {
   "cell_type": "markdown",
   "id": "00a0cd4b",
   "metadata": {},
   "source": [
    "in arithmetic operations we cannot use different shape or size of arrays.\n",
    "\n",
    "now questions is how a scalar is operated with a array?\n",
    "\n",
    "this is because of broadcasting of arry.\n",
    "\n",
    "using broadcasting we use arithmetic operations in two different shapes or sized array.\n",
    "broadcasting actually make both array in same shapes and sized and then use arithmetic operations\n",
    "like if we add 5 with a array of 6 elements then by broadcasting 5 is treated as a arrays of 5\n",
    "and shape of this array is 6 and then do the arithmetic operations.\n",
    "but note that numpy do not stretched or broadcast the array, numpy just do the computation without\n",
    "stretching the array or copping the values."
   ]
  },
  {
   "cell_type": "markdown",
   "id": "049be9c4",
   "metadata": {},
   "source": [
    "###  broadcasting of array"
   ]
  },
  {
   "cell_type": "code",
   "execution_count": 99,
   "id": "d57980a0",
   "metadata": {},
   "outputs": [
    {
     "name": "stdout",
     "output_type": "stream",
     "text": [
      "[1 2 3]\n",
      "[4 5 6 7]\n"
     ]
    }
   ],
   "source": [
    "arr52 = np.array([1,2,3])\n",
    "arr53 = np.array([4,5,6,7])\n",
    "print(arr52)\n",
    "print(arr53)"
   ]
  },
  {
   "cell_type": "markdown",
   "id": "6ce56627",
   "metadata": {},
   "source": [
    "there are some rules of broadcasting or conditions of broadcasting\n",
    "\n",
    "rule 1: size of each dimension should be same\n",
    "\n",
    "rule 2: size of one of the dimension should be 1\n",
    "\n",
    "these are the two main rules but in calculating we follow some other rules also\n",
    "\n",
    "rule 3 : if the two arrays differ in their nunber of dimensions, the shape of the one with fewer\n",
    "dimension is padded with ones on its left leading side.\n",
    "\n",
    "rule 4 : if the shape of the two arrays does not match in any dimension, the array with shape\n",
    "equal to 1 in that dimension is streatched to match the other shape.\n",
    "\n",
    "rule 5 : if in any dimension the sizes disagree and neither equal to 1 an error is raised.\n"
   ]
  },
  {
   "cell_type": "code",
   "execution_count": 100,
   "id": "d76b69c4",
   "metadata": {},
   "outputs": [
    {
     "ename": "ValueError",
     "evalue": "operands could not be broadcast together with shapes (3,) (4,) ",
     "output_type": "error",
     "traceback": [
      "\u001b[1;31m---------------------------------------------------------------------------\u001b[0m",
      "\u001b[1;31mValueError\u001b[0m                                Traceback (most recent call last)",
      "\u001b[1;32m<ipython-input-100-ea873504f337>\u001b[0m in \u001b[0;36m<module>\u001b[1;34m\u001b[0m\n\u001b[1;32m----> 1\u001b[1;33m \u001b[0mprint\u001b[0m\u001b[1;33m(\u001b[0m\u001b[0marr52\u001b[0m\u001b[1;33m+\u001b[0m\u001b[0marr53\u001b[0m\u001b[1;33m)\u001b[0m\u001b[1;31m# here we get error because we do not follow rule no 5.\u001b[0m\u001b[1;33m\u001b[0m\u001b[1;33m\u001b[0m\u001b[0m\n\u001b[0m",
      "\u001b[1;31mValueError\u001b[0m: operands could not be broadcast together with shapes (3,) (4,) "
     ]
    }
   ],
   "source": [
    "print(arr52+arr53)# here we get error because we do not follow rule no 5."
   ]
  },
  {
   "cell_type": "code",
   "execution_count": 103,
   "id": "e1238b7b",
   "metadata": {},
   "outputs": [
    {
     "name": "stdout",
     "output_type": "stream",
     "text": [
      "[[0 1 2]\n",
      " [3 4 5]]\n",
      "[[0 1]\n",
      " [2 3]\n",
      " [4 5]]\n"
     ]
    }
   ],
   "source": [
    "arr54  = np.arange(6).reshape(2,3)\n",
    "arr55 = np.arange(6).reshape(3,2)\n",
    "print(arr54)\n",
    "print(arr55)"
   ]
  },
  {
   "cell_type": "markdown",
   "id": "3371d7b6",
   "metadata": {},
   "source": [
    "here according to rule no 1 size of the one dimension is same and that is 3 but other is not same.\n",
    "\n",
    "\n",
    "so according to rule 3 we add 1 in left to fewer dimension. so the n1  array become size of 1,3\n",
    "\n",
    "\n",
    "note that the number of column must be equal then rule number 3 is applicable"
   ]
  },
  {
   "cell_type": "code",
   "execution_count": 104,
   "id": "21eb780b",
   "metadata": {},
   "outputs": [
    {
     "ename": "ValueError",
     "evalue": "operands could not be broadcast together with shapes (2,3) (3,2) ",
     "output_type": "error",
     "traceback": [
      "\u001b[1;31m---------------------------------------------------------------------------\u001b[0m",
      "\u001b[1;31mValueError\u001b[0m                                Traceback (most recent call last)",
      "\u001b[1;32m<ipython-input-104-bdcf1ccc38b6>\u001b[0m in \u001b[0;36m<module>\u001b[1;34m\u001b[0m\n\u001b[1;32m----> 1\u001b[1;33m \u001b[0mprint\u001b[0m\u001b[1;33m(\u001b[0m\u001b[0marr54\u001b[0m\u001b[1;33m+\u001b[0m\u001b[0marr55\u001b[0m\u001b[1;33m)\u001b[0m\u001b[1;33m\u001b[0m\u001b[1;33m\u001b[0m\u001b[0m\n\u001b[0m",
      "\u001b[1;31mValueError\u001b[0m: operands could not be broadcast together with shapes (2,3) (3,2) "
     ]
    }
   ],
   "source": [
    "print(arr54+arr55) #print(q1+ n1)# here we get error because the number of column is not equal"
   ]
  },
  {
   "cell_type": "code",
   "execution_count": 105,
   "id": "173cd440",
   "metadata": {},
   "outputs": [
    {
     "name": "stdout",
     "output_type": "stream",
     "text": [
      "[[1 2]\n",
      " [3 4]\n",
      " [5 6]]\n",
      "[[1 2]\n",
      " [3 4]]\n"
     ]
    }
   ],
   "source": [
    "arr56 = np.arange(1,7).reshape(3,2)\n",
    "arr57 = np.arange(1,5).reshape(2,2)\n",
    "print(arr56)\n",
    "print(arr57)"
   ]
  },
  {
   "cell_type": "code",
   "execution_count": 106,
   "id": "2cc67ecd",
   "metadata": {},
   "outputs": [
    {
     "ename": "ValueError",
     "evalue": "operands could not be broadcast together with shapes (3,2) (2,2) ",
     "output_type": "error",
     "traceback": [
      "\u001b[1;31m---------------------------------------------------------------------------\u001b[0m",
      "\u001b[1;31mValueError\u001b[0m                                Traceback (most recent call last)",
      "\u001b[1;32m<ipython-input-106-824779c32a84>\u001b[0m in \u001b[0;36m<module>\u001b[1;34m\u001b[0m\n\u001b[1;32m----> 1\u001b[1;33m \u001b[0mprint\u001b[0m\u001b[1;33m(\u001b[0m\u001b[0marr56\u001b[0m\u001b[1;33m+\u001b[0m\u001b[0marr57\u001b[0m\u001b[1;33m)\u001b[0m\u001b[1;31m# here we get error because here column number is same but row number is not same or any one of the dimension is not 1\u001b[0m\u001b[1;33m\u001b[0m\u001b[1;33m\u001b[0m\u001b[0m\n\u001b[0m",
      "\u001b[1;31mValueError\u001b[0m: operands could not be broadcast together with shapes (3,2) (2,2) "
     ]
    }
   ],
   "source": [
    "print(arr56+arr57)# here we get error because here column number is same but row number is not same or any one of the dimension is not 1"
   ]
  },
  {
   "cell_type": "code",
   "execution_count": 107,
   "id": "6f4eb01d",
   "metadata": {},
   "outputs": [
    {
     "name": "stdout",
     "output_type": "stream",
     "text": [
      "[[1]\n",
      " [2]\n",
      " [3]]\n",
      "[[4 5 6]]\n",
      "[[5 6 7]\n",
      " [6 7 8]\n",
      " [7 8 9]]\n"
     ]
    }
   ],
   "source": [
    "arr58 = np.arange(1,4).reshape(3,1)\n",
    "arr59 = np.arange(4,7).reshape(1,3)\n",
    "print(arr58)\n",
    "print(arr59)\n",
    "print(arr58+arr59)# here both the array will be stretched according to rule no 3.\n"
   ]
  }
 ],
 "metadata": {
  "kernelspec": {
   "display_name": "Python 3",
   "language": "python",
   "name": "python3"
  },
  "language_info": {
   "codemirror_mode": {
    "name": "ipython",
    "version": 3
   },
   "file_extension": ".py",
   "mimetype": "text/x-python",
   "name": "python",
   "nbconvert_exporter": "python",
   "pygments_lexer": "ipython3",
   "version": "3.8.8"
  }
 },
 "nbformat": 4,
 "nbformat_minor": 5
}
