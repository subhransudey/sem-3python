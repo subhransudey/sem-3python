{
 "cells": [
  {
   "cell_type": "markdown",
   "id": "40d6a0f9",
   "metadata": {},
   "source": [
    "# Introduction "
   ]
  },
  {
   "cell_type": "markdown",
   "id": "b08048f8",
   "metadata": {},
   "source": [
    "## What is matrices ?  "
   ]
  },
  {
   "cell_type": "markdown",
   "id": "741127d8",
   "metadata": {},
   "source": [
    "Matrices are 2-D array with different shapes. \n",
    "\n",
    "we can create matrix using numppy array or matrix class \n",
    "\n",
    "I dont recomend to use matrix class in future. "
   ]
  },
  {
   "cell_type": "markdown",
   "id": "5ebe09ee",
   "metadata": {},
   "source": [
    "## Creating Matrices "
   ]
  },
  {
   "cell_type": "markdown",
   "id": "3fc209c8",
   "metadata": {},
   "source": [
    "Since matrix is a 2d array, we can create matrix using array or matrix class "
   ]
  },
  {
   "cell_type": "markdown",
   "id": "18ca1f86",
   "metadata": {},
   "source": [
    "### Using Numpy Array "
   ]
  },
  {
   "cell_type": "code",
   "execution_count": 1,
   "id": "34f6b986",
   "metadata": {},
   "outputs": [
    {
     "name": "stdout",
     "output_type": "stream",
     "text": [
      "[[1 2]\n",
      " [3 4]]\n"
     ]
    }
   ],
   "source": [
    "import numpy as np \n",
    "matrix1 = np.array([[1,2],[3,4]])\n",
    "print(matrix1)"
   ]
  },
  {
   "cell_type": "code",
   "execution_count": 2,
   "id": "118262ee",
   "metadata": {},
   "outputs": [
    {
     "name": "stdout",
     "output_type": "stream",
     "text": [
      "[[0 1 2]\n",
      " [3 4 5]\n",
      " [6 7 8]]\n"
     ]
    }
   ],
   "source": [
    "matrix2 = np.arange(9).reshape(3,3)\n",
    "print(matrix2)"
   ]
  },
  {
   "cell_type": "markdown",
   "id": "d1e65192",
   "metadata": {},
   "source": [
    "### Using matrix class "
   ]
  },
  {
   "cell_type": "code",
   "execution_count": 3,
   "id": "a2d558ad",
   "metadata": {},
   "outputs": [
    {
     "name": "stdout",
     "output_type": "stream",
     "text": [
      "[[1 2]\n",
      " [3 4]]\n"
     ]
    }
   ],
   "source": [
    "matrix3 = np.matrix([[1,2],[3,4]])\n",
    "print(matrix3)"
   ]
  },
  {
   "cell_type": "code",
   "execution_count": 4,
   "id": "bf251033",
   "metadata": {},
   "outputs": [
    {
     "name": "stdout",
     "output_type": "stream",
     "text": [
      "[[1 2]\n",
      " [3 4]]\n"
     ]
    }
   ],
   "source": [
    "matrix4 = np.matrix(\"1 2;3 4\") #here every space means new elements and ; means new row \n",
    "print(matrix4) "
   ]
  },
  {
   "cell_type": "markdown",
   "id": "1f0a0f78",
   "metadata": {},
   "source": [
    "## Matrix Operations "
   ]
  },
  {
   "cell_type": "markdown",
   "id": "97635d4c",
   "metadata": {},
   "source": [
    "### Using array method "
   ]
  },
  {
   "cell_type": "code",
   "execution_count": 5,
   "id": "f5b25574",
   "metadata": {},
   "outputs": [
    {
     "name": "stdout",
     "output_type": "stream",
     "text": [
      "[[0 1 2]\n",
      " [3 4 5]\n",
      " [6 7 8]]\n",
      "[[ 9 10 11]\n",
      " [12 13 14]\n",
      " [15 16 17]]\n"
     ]
    }
   ],
   "source": [
    "matrix5  = np.arange(9).reshape(3,3)\n",
    "matrix6 = np.array([[9,10,11],[12,13,14],[15,16,17]])\n",
    "print(matrix5)\n",
    "print(matrix6)"
   ]
  },
  {
   "cell_type": "markdown",
   "id": "227c65a1",
   "metadata": {},
   "source": [
    "#### Addition "
   ]
  },
  {
   "cell_type": "code",
   "execution_count": 6,
   "id": "8de05adf",
   "metadata": {},
   "outputs": [
    {
     "name": "stdout",
     "output_type": "stream",
     "text": [
      "[[ 9 11 13]\n",
      " [15 17 19]\n",
      " [21 23 25]]\n",
      "[[ 9 11 13]\n",
      " [15 17 19]\n",
      " [21 23 25]]\n"
     ]
    }
   ],
   "source": [
    "print(matrix5+matrix6)\n",
    "# or \n",
    "print(np.add(matrix5,matrix6))"
   ]
  },
  {
   "cell_type": "markdown",
   "id": "de059932",
   "metadata": {},
   "source": [
    "#### Substraction "
   ]
  },
  {
   "cell_type": "code",
   "execution_count": 7,
   "id": "164d06d7",
   "metadata": {},
   "outputs": [
    {
     "name": "stdout",
     "output_type": "stream",
     "text": [
      "[[0 1 2]\n",
      " [3 4 5]\n",
      " [6 7 8]]\n",
      "[[ 9 10 11]\n",
      " [12 13 14]\n",
      " [15 16 17]]\n"
     ]
    }
   ],
   "source": [
    "matrix7  = np.arange(9).reshape(3,3)\n",
    "matrix8 = np.array([[9,10,11],[12,13,14],[15,16,17]])\n",
    "print(matrix7)\n",
    "print(matrix8)"
   ]
  },
  {
   "cell_type": "code",
   "execution_count": 8,
   "id": "7a62165a",
   "metadata": {},
   "outputs": [
    {
     "name": "stdout",
     "output_type": "stream",
     "text": [
      "[[9 9 9]\n",
      " [9 9 9]\n",
      " [9 9 9]]\n",
      "[[-9 -9 -9]\n",
      " [-9 -9 -9]\n",
      " [-9 -9 -9]]\n"
     ]
    }
   ],
   "source": [
    "print(matrix8-matrix7)\n",
    "#or \n",
    "print(np.subtract(matrix7,matrix8))\n",
    "# order is important "
   ]
  },
  {
   "cell_type": "markdown",
   "id": "f2f44666",
   "metadata": {},
   "source": [
    "#### Multiplication "
   ]
  },
  {
   "cell_type": "code",
   "execution_count": 9,
   "id": "9074790f",
   "metadata": {},
   "outputs": [
    {
     "name": "stdout",
     "output_type": "stream",
     "text": [
      "[[0 1 2]\n",
      " [3 4 5]\n",
      " [6 7 8]]\n",
      "[[ 9 10 11]\n",
      " [12 13 14]\n",
      " [15 16 17]]\n"
     ]
    }
   ],
   "source": [
    "matrix9  = np.arange(9).reshape(3,3)\n",
    "matrix10 = np.array([[9,10,11],[12,13,14],[15,16,17]])\n",
    "print(matrix9)\n",
    "print(matrix10)"
   ]
  },
  {
   "cell_type": "code",
   "execution_count": 10,
   "id": "fe5a0a76",
   "metadata": {},
   "outputs": [
    {
     "name": "stdout",
     "output_type": "stream",
     "text": [
      "[[  0  10  22]\n",
      " [ 36  52  70]\n",
      " [ 90 112 136]]\n",
      "[[  0  10  22]\n",
      " [ 36  52  70]\n",
      " [ 90 112 136]]\n",
      "[[ 42  45  48]\n",
      " [150 162 174]\n",
      " [258 279 300]]\n",
      "[[ 96 126 156]\n",
      " [123 162 201]\n",
      " [150 198 246]]\n"
     ]
    }
   ],
   "source": [
    "print(matrix9*matrix10) # this is array multiplicaion not matrix multiplication \n",
    "print(np.multiply(matrix10,matrix9)) # order is not important in array multiplilation \n",
    "print(matrix9.dot(matrix10))\n",
    "print(matrix10.dot(matrix9)) # order is important "
   ]
  },
  {
   "cell_type": "markdown",
   "id": "14f3463d",
   "metadata": {},
   "source": [
    "####  Transpose "
   ]
  },
  {
   "cell_type": "code",
   "execution_count": 11,
   "id": "ceede4c2",
   "metadata": {},
   "outputs": [
    {
     "name": "stdout",
     "output_type": "stream",
     "text": [
      "[[1 2 3]\n",
      " [4 5 6]\n",
      " [7 8 9]]\n",
      "[[1 4 7]\n",
      " [2 5 8]\n",
      " [3 6 9]]\n",
      "[[1 4 7]\n",
      " [2 5 8]\n",
      " [3 6 9]]\n"
     ]
    }
   ],
   "source": [
    "matrix11 = np.array([[1,2,3],[4,5,6],[7,8,9]])\n",
    "print(matrix11)\n",
    "print(np.transpose(matrix11))\n",
    "# or \n",
    "print(matrix11.T)"
   ]
  },
  {
   "cell_type": "markdown",
   "id": "3cbfd0ee",
   "metadata": {},
   "source": [
    "### Using matrix class"
   ]
  },
  {
   "cell_type": "markdown",
   "id": "f1387838",
   "metadata": {},
   "source": [
    "#### Addition "
   ]
  },
  {
   "cell_type": "code",
   "execution_count": 12,
   "id": "f43947c9",
   "metadata": {},
   "outputs": [
    {
     "name": "stdout",
     "output_type": "stream",
     "text": [
      "[[1 2]\n",
      " [3 4]]\n",
      "[[5 6]\n",
      " [7 8]]\n"
     ]
    }
   ],
   "source": [
    "matrix12 = np.array([[1,2],[3,4]])\n",
    "matrix13 = np.array([[5,6],[7,8]])\n",
    "print(matrix12)\n",
    "print(matrix13)"
   ]
  },
  {
   "cell_type": "code",
   "execution_count": 13,
   "id": "1bfddbbd",
   "metadata": {},
   "outputs": [
    {
     "name": "stdout",
     "output_type": "stream",
     "text": [
      "[[ 6  8]\n",
      " [10 12]]\n",
      "[[ 6  8]\n",
      " [10 12]]\n"
     ]
    }
   ],
   "source": [
    "print(matrix12 + matrix13)\n",
    "#or \n",
    "print(np.add(matrix12,matrix13))"
   ]
  },
  {
   "cell_type": "markdown",
   "id": "1a13555f",
   "metadata": {},
   "source": [
    "#### Substraction"
   ]
  },
  {
   "cell_type": "code",
   "execution_count": 14,
   "id": "effb9c77",
   "metadata": {},
   "outputs": [
    {
     "name": "stdout",
     "output_type": "stream",
     "text": [
      "[[1 2]\n",
      " [3 4]]\n",
      "[[5 6]\n",
      " [7 8]]\n"
     ]
    }
   ],
   "source": [
    "matrix14 = np.matrix([[1,2],[3,4]])\n",
    "matrix15 = np.matrix([[5,6],[7,8]])\n",
    "print(matrix14)\n",
    "print(matrix15)"
   ]
  },
  {
   "cell_type": "code",
   "execution_count": 15,
   "id": "dda18f78",
   "metadata": {},
   "outputs": [
    {
     "name": "stdout",
     "output_type": "stream",
     "text": [
      "[[4 4]\n",
      " [4 4]]\n",
      "[[-4 -4]\n",
      " [-4 -4]]\n"
     ]
    }
   ],
   "source": [
    "print(matrix15-matrix14)\n",
    "# or \n",
    "print(np.subtract(matrix14,matrix15))"
   ]
  },
  {
   "cell_type": "markdown",
   "id": "eaf8fcf3",
   "metadata": {},
   "source": [
    "#### Multiplication "
   ]
  },
  {
   "cell_type": "code",
   "execution_count": 16,
   "id": "baebd3df",
   "metadata": {},
   "outputs": [
    {
     "name": "stdout",
     "output_type": "stream",
     "text": [
      "[[1 2]\n",
      " [3 4]]\n",
      "[[5 6]\n",
      " [7 8]]\n"
     ]
    }
   ],
   "source": [
    "matrix16 = np.matrix([[1,2],[3,4]])\n",
    "matrix17 = np.matrix([[5,6],[7,8]])\n",
    "print(matrix16)\n",
    "print(matrix17)"
   ]
  },
  {
   "cell_type": "code",
   "execution_count": 17,
   "id": "9d942a80",
   "metadata": {},
   "outputs": [
    {
     "name": "stdout",
     "output_type": "stream",
     "text": [
      "[[19 22]\n",
      " [43 50]]\n",
      "[[19 22]\n",
      " [43 50]]\n",
      "[[ 5 12]\n",
      " [21 32]]\n"
     ]
    }
   ],
   "source": [
    "print(matrix16*matrix17)# this is the advantage of using matrix class \n",
    "# or \n",
    "print(matrix16.dot(matrix17))\n",
    "print(np.multiply(matrix16,matrix17))# this is array multiplication "
   ]
  },
  {
   "cell_type": "markdown",
   "id": "1e44e7b0",
   "metadata": {},
   "source": [
    "#### Transpose "
   ]
  },
  {
   "cell_type": "code",
   "execution_count": 18,
   "id": "2da0f938",
   "metadata": {},
   "outputs": [
    {
     "name": "stdout",
     "output_type": "stream",
     "text": [
      "[[0 1 2]\n",
      " [3 4 5]\n",
      " [6 7 8]]\n",
      "[[0 3 6]\n",
      " [1 4 7]\n",
      " [2 5 8]]\n",
      "[[0 3 6]\n",
      " [1 4 7]\n",
      " [2 5 8]]\n"
     ]
    }
   ],
   "source": [
    "matrix18 = np.matrix(np.arange(9).reshape(3,3))\n",
    "print(matrix18)\n",
    "print(np.transpose(matrix18))\n",
    "# or \n",
    "print(matrix18.T)"
   ]
  },
  {
   "cell_type": "markdown",
   "id": "67642dae",
   "metadata": {},
   "source": [
    "#### Power of a matrix"
   ]
  },
  {
   "cell_type": "code",
   "execution_count": 19,
   "id": "cc76ada2",
   "metadata": {},
   "outputs": [
    {
     "name": "stdout",
     "output_type": "stream",
     "text": [
      "[[1 2]\n",
      " [3 4]]\n"
     ]
    }
   ],
   "source": [
    "matrix19 = np.array([[1,2],[3,4]])\n",
    "print(matrix19)"
   ]
  },
  {
   "cell_type": "code",
   "execution_count": 20,
   "id": "9176adb7",
   "metadata": {},
   "outputs": [
    {
     "name": "stdout",
     "output_type": "stream",
     "text": [
      "[[ 1  4]\n",
      " [ 9 16]]\n"
     ]
    }
   ],
   "source": [
    "# power of a array \n",
    "print(np.power(matrix19,2))"
   ]
  },
  {
   "cell_type": "code",
   "execution_count": 21,
   "id": "1fb6fcde",
   "metadata": {},
   "outputs": [
    {
     "name": "stdout",
     "output_type": "stream",
     "text": [
      "[[ 7 10]\n",
      " [15 22]]\n"
     ]
    }
   ],
   "source": [
    "# matrix power \n",
    "print(np.linalg.matrix_power(matrix19,2))"
   ]
  },
  {
   "cell_type": "markdown",
   "id": "3fe21ed4",
   "metadata": {},
   "source": [
    "## Aggregate function "
   ]
  },
  {
   "cell_type": "markdown",
   "id": "2dc5fc0b",
   "metadata": {},
   "source": [
    "np.sum(array,dtype) : sums all the element of the array\n",
    "\n",
    "np.prod(array,dtype) : product all the element of the array\n",
    "\n",
    "np.mean(array,dtype) : mean of the  elemenmts of the array\n",
    "\n",
    "np.std(array,dtype) : standard deviation of the elements of the array\n",
    "\n",
    "np.var(array,dtype) : variance of the elements of the array\n",
    "\n",
    "np.min(array,dtype) : mininum of the elements of the array\n",
    "\n",
    "np.max(array,dtype) : maximum of the elements of the array\n",
    "\n",
    "np.argmin(array,dtype,axis) index of the minimum of the elemlents of the array ,axis = 0 (column),axis = 1 (row)\n",
    "\n",
    "np.argmax(array,dtype,axis) : index of the maximum of the elements of the array ,axis = 0 (column), axis = 1 (row)\n",
    "\n"
   ]
  },
  {
   "cell_type": "code",
   "execution_count": 23,
   "id": "df785be2",
   "metadata": {},
   "outputs": [
    {
     "name": "stdout",
     "output_type": "stream",
     "text": [
      "[1 2 3 4 5 6 7 8 9]\n"
     ]
    }
   ],
   "source": [
    "arr1 = np.array([1,2,3,4,5,6,7,8,9])\n",
    "print(arr1)"
   ]
  },
  {
   "cell_type": "code",
   "execution_count": 24,
   "id": "b0b39e12",
   "metadata": {},
   "outputs": [
    {
     "name": "stdout",
     "output_type": "stream",
     "text": [
      "45\n"
     ]
    }
   ],
   "source": [
    "#sum\n",
    "print(np.sum(arr1))"
   ]
  },
  {
   "cell_type": "code",
   "execution_count": 25,
   "id": "1d3a0283",
   "metadata": {},
   "outputs": [
    {
     "name": "stdout",
     "output_type": "stream",
     "text": [
      "362880\n"
     ]
    }
   ],
   "source": [
    "#product\n",
    "print(np.prod(arr1))"
   ]
  },
  {
   "cell_type": "code",
   "execution_count": 26,
   "id": "3112b482",
   "metadata": {},
   "outputs": [
    {
     "name": "stdout",
     "output_type": "stream",
     "text": [
      "5.0\n"
     ]
    }
   ],
   "source": [
    "#mean\n",
    "print(np.mean(arr1))"
   ]
  },
  {
   "cell_type": "code",
   "execution_count": 30,
   "id": "06026535",
   "metadata": {},
   "outputs": [
    {
     "name": "stdout",
     "output_type": "stream",
     "text": [
      "2.581988897471611\n"
     ]
    }
   ],
   "source": [
    "#standard deviation \n",
    "print(np.std(arr1))"
   ]
  },
  {
   "cell_type": "code",
   "execution_count": 28,
   "id": "882226cb",
   "metadata": {},
   "outputs": [
    {
     "name": "stdout",
     "output_type": "stream",
     "text": [
      "6.666666666666667\n"
     ]
    }
   ],
   "source": [
    "#variance\n",
    "print(np.var(arr1))"
   ]
  },
  {
   "cell_type": "code",
   "execution_count": 31,
   "id": "dafc710a",
   "metadata": {},
   "outputs": [
    {
     "name": "stdout",
     "output_type": "stream",
     "text": [
      "1\n"
     ]
    }
   ],
   "source": [
    "#minimum\n",
    "print(np.min(arr1))"
   ]
  },
  {
   "cell_type": "code",
   "execution_count": 32,
   "id": "308e8f18",
   "metadata": {},
   "outputs": [
    {
     "name": "stdout",
     "output_type": "stream",
     "text": [
      "9\n"
     ]
    }
   ],
   "source": [
    "#maximum\n",
    "print(np.max(arr1))"
   ]
  },
  {
   "cell_type": "code",
   "execution_count": 33,
   "id": "d8e2019e",
   "metadata": {},
   "outputs": [
    {
     "name": "stdout",
     "output_type": "stream",
     "text": [
      "0\n"
     ]
    }
   ],
   "source": [
    "#index of minimum\n",
    "print(np.argmin(arr1))"
   ]
  },
  {
   "cell_type": "code",
   "execution_count": 34,
   "id": "f48c210d",
   "metadata": {},
   "outputs": [
    {
     "name": "stdout",
     "output_type": "stream",
     "text": [
      "8\n"
     ]
    }
   ],
   "source": [
    "#index of the maximum\n",
    "print(np.argmax(arr1))"
   ]
  }
 ],
 "metadata": {
  "kernelspec": {
   "display_name": "Python 3",
   "language": "python",
   "name": "python3"
  },
  "language_info": {
   "codemirror_mode": {
    "name": "ipython",
    "version": 3
   },
   "file_extension": ".py",
   "mimetype": "text/x-python",
   "name": "python",
   "nbconvert_exporter": "python",
   "pygments_lexer": "ipython3",
   "version": "3.8.8"
  }
 },
 "nbformat": 4,
 "nbformat_minor": 5
}
